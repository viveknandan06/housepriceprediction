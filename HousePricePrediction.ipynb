{
 "cells": [
  {
   "cell_type": "markdown",
   "id": "d8d7c8de",
   "metadata": {},
   "source": [
    "# House Price Prediction"
   ]
  },
  {
   "cell_type": "code",
   "execution_count": 1,
   "id": "ece73784",
   "metadata": {},
   "outputs": [],
   "source": [
    "import pandas as pd"
   ]
  },
  {
   "cell_type": "code",
   "execution_count": 2,
   "id": "56606254",
   "metadata": {},
   "outputs": [],
   "source": [
    "housing = pd.read_csv(\"data.csv\")"
   ]
  },
  {
   "cell_type": "code",
   "execution_count": 3,
   "id": "5da51e26",
   "metadata": {},
   "outputs": [
    {
     "data": {
      "text/html": [
       "<div>\n",
       "<style scoped>\n",
       "    .dataframe tbody tr th:only-of-type {\n",
       "        vertical-align: middle;\n",
       "    }\n",
       "\n",
       "    .dataframe tbody tr th {\n",
       "        vertical-align: top;\n",
       "    }\n",
       "\n",
       "    .dataframe thead th {\n",
       "        text-align: right;\n",
       "    }\n",
       "</style>\n",
       "<table border=\"1\" class=\"dataframe\">\n",
       "  <thead>\n",
       "    <tr style=\"text-align: right;\">\n",
       "      <th></th>\n",
       "      <th>Id</th>\n",
       "      <th>MSSubClass</th>\n",
       "      <th>MSZoning</th>\n",
       "      <th>LotArea</th>\n",
       "      <th>LotConfig</th>\n",
       "      <th>BldgType</th>\n",
       "      <th>OverallCond</th>\n",
       "      <th>YearBuilt</th>\n",
       "      <th>YearRemodAdd</th>\n",
       "      <th>Exterior1st</th>\n",
       "      <th>BsmtFinSF2</th>\n",
       "      <th>TotalBsmtSF</th>\n",
       "      <th>SalePrice</th>\n",
       "    </tr>\n",
       "  </thead>\n",
       "  <tbody>\n",
       "    <tr>\n",
       "      <th>0</th>\n",
       "      <td>0</td>\n",
       "      <td>60</td>\n",
       "      <td>RL</td>\n",
       "      <td>8450</td>\n",
       "      <td>Inside</td>\n",
       "      <td>1Fam</td>\n",
       "      <td>5</td>\n",
       "      <td>2003</td>\n",
       "      <td>2003</td>\n",
       "      <td>VinylSd</td>\n",
       "      <td>0.0</td>\n",
       "      <td>856.0</td>\n",
       "      <td>208500.0</td>\n",
       "    </tr>\n",
       "    <tr>\n",
       "      <th>1</th>\n",
       "      <td>1</td>\n",
       "      <td>20</td>\n",
       "      <td>RL</td>\n",
       "      <td>9600</td>\n",
       "      <td>FR2</td>\n",
       "      <td>1Fam</td>\n",
       "      <td>8</td>\n",
       "      <td>1976</td>\n",
       "      <td>1976</td>\n",
       "      <td>MetalSd</td>\n",
       "      <td>0.0</td>\n",
       "      <td>1262.0</td>\n",
       "      <td>181500.0</td>\n",
       "    </tr>\n",
       "    <tr>\n",
       "      <th>2</th>\n",
       "      <td>2</td>\n",
       "      <td>60</td>\n",
       "      <td>RL</td>\n",
       "      <td>11250</td>\n",
       "      <td>Inside</td>\n",
       "      <td>1Fam</td>\n",
       "      <td>5</td>\n",
       "      <td>2001</td>\n",
       "      <td>2002</td>\n",
       "      <td>VinylSd</td>\n",
       "      <td>0.0</td>\n",
       "      <td>920.0</td>\n",
       "      <td>223500.0</td>\n",
       "    </tr>\n",
       "    <tr>\n",
       "      <th>3</th>\n",
       "      <td>3</td>\n",
       "      <td>70</td>\n",
       "      <td>RL</td>\n",
       "      <td>9550</td>\n",
       "      <td>Corner</td>\n",
       "      <td>1Fam</td>\n",
       "      <td>5</td>\n",
       "      <td>1915</td>\n",
       "      <td>1970</td>\n",
       "      <td>Wd Sdng</td>\n",
       "      <td>0.0</td>\n",
       "      <td>756.0</td>\n",
       "      <td>140000.0</td>\n",
       "    </tr>\n",
       "    <tr>\n",
       "      <th>4</th>\n",
       "      <td>4</td>\n",
       "      <td>60</td>\n",
       "      <td>RL</td>\n",
       "      <td>14260</td>\n",
       "      <td>FR2</td>\n",
       "      <td>1Fam</td>\n",
       "      <td>5</td>\n",
       "      <td>2000</td>\n",
       "      <td>2000</td>\n",
       "      <td>VinylSd</td>\n",
       "      <td>0.0</td>\n",
       "      <td>1145.0</td>\n",
       "      <td>250000.0</td>\n",
       "    </tr>\n",
       "  </tbody>\n",
       "</table>\n",
       "</div>"
      ],
      "text/plain": [
       "   Id  MSSubClass MSZoning  LotArea LotConfig BldgType  OverallCond  \\\n",
       "0   0          60       RL     8450    Inside     1Fam            5   \n",
       "1   1          20       RL     9600       FR2     1Fam            8   \n",
       "2   2          60       RL    11250    Inside     1Fam            5   \n",
       "3   3          70       RL     9550    Corner     1Fam            5   \n",
       "4   4          60       RL    14260       FR2     1Fam            5   \n",
       "\n",
       "   YearBuilt  YearRemodAdd Exterior1st  BsmtFinSF2  TotalBsmtSF  SalePrice  \n",
       "0       2003          2003     VinylSd         0.0        856.0   208500.0  \n",
       "1       1976          1976     MetalSd         0.0       1262.0   181500.0  \n",
       "2       2001          2002     VinylSd         0.0        920.0   223500.0  \n",
       "3       1915          1970     Wd Sdng         0.0        756.0   140000.0  \n",
       "4       2000          2000     VinylSd         0.0       1145.0   250000.0  "
      ]
     },
     "execution_count": 3,
     "metadata": {},
     "output_type": "execute_result"
    }
   ],
   "source": [
    "housing.head()"
   ]
  },
  {
   "cell_type": "code",
   "execution_count": 4,
   "id": "fde237d0",
   "metadata": {},
   "outputs": [],
   "source": [
    "housing=housing.drop('Id', axis=1)"
   ]
  },
  {
   "cell_type": "code",
   "execution_count": 5,
   "id": "18bb1482",
   "metadata": {},
   "outputs": [
    {
     "data": {
      "text/plain": [
       "RL         2265\n",
       "RM          460\n",
       "FV          139\n",
       "RH           26\n",
       "C (all)      25\n",
       "Name: MSZoning, dtype: int64"
      ]
     },
     "execution_count": 5,
     "metadata": {},
     "output_type": "execute_result"
    }
   ],
   "source": [
    "housing['MSZoning'].value_counts()"
   ]
  },
  {
   "cell_type": "code",
   "execution_count": 6,
   "id": "4e83b264",
   "metadata": {},
   "outputs": [],
   "source": [
    "from sklearn.preprocessing import LabelEncoder\n",
    "# create a label encoder object\n",
    "le = LabelEncoder()\n",
    "\n",
    "# fit and transform the MSZoning column of the housing dataset\n",
    "housing[\"MSZoning\"] = le.fit_transform(housing[\"MSZoning\"])\n",
    "housing[\"LotConfig\"] = le.fit_transform(housing[\"LotConfig\"])\n",
    "housing[\"BldgType\"] = le.fit_transform(housing[\"BldgType\"])\n",
    "housing[\"Exterior1st\"] = le.fit_transform(housing[\"Exterior1st\"])"
   ]
  },
  {
   "cell_type": "code",
   "execution_count": 7,
   "id": "b4d7160e",
   "metadata": {},
   "outputs": [
    {
     "data": {
      "text/plain": [
       "['label_encoder.joblib']"
      ]
     },
     "execution_count": 7,
     "metadata": {},
     "output_type": "execute_result"
    }
   ],
   "source": [
    "import joblib\n",
    "joblib.dump(le, 'label_encoder.joblib')"
   ]
  },
  {
   "cell_type": "markdown",
   "id": "25db9630",
   "metadata": {},
   "source": [
    "## taking a quick look at dataset"
   ]
  },
  {
   "cell_type": "code",
   "execution_count": 8,
   "id": "ae70e622",
   "metadata": {
    "scrolled": true
   },
   "outputs": [
    {
     "data": {
      "text/html": [
       "<div>\n",
       "<style scoped>\n",
       "    .dataframe tbody tr th:only-of-type {\n",
       "        vertical-align: middle;\n",
       "    }\n",
       "\n",
       "    .dataframe tbody tr th {\n",
       "        vertical-align: top;\n",
       "    }\n",
       "\n",
       "    .dataframe thead th {\n",
       "        text-align: right;\n",
       "    }\n",
       "</style>\n",
       "<table border=\"1\" class=\"dataframe\">\n",
       "  <thead>\n",
       "    <tr style=\"text-align: right;\">\n",
       "      <th></th>\n",
       "      <th>MSSubClass</th>\n",
       "      <th>MSZoning</th>\n",
       "      <th>LotArea</th>\n",
       "      <th>LotConfig</th>\n",
       "      <th>BldgType</th>\n",
       "      <th>OverallCond</th>\n",
       "      <th>YearBuilt</th>\n",
       "      <th>YearRemodAdd</th>\n",
       "      <th>Exterior1st</th>\n",
       "      <th>BsmtFinSF2</th>\n",
       "      <th>TotalBsmtSF</th>\n",
       "      <th>SalePrice</th>\n",
       "    </tr>\n",
       "  </thead>\n",
       "  <tbody>\n",
       "    <tr>\n",
       "      <th>0</th>\n",
       "      <td>60</td>\n",
       "      <td>3</td>\n",
       "      <td>8450</td>\n",
       "      <td>4</td>\n",
       "      <td>0</td>\n",
       "      <td>5</td>\n",
       "      <td>2003</td>\n",
       "      <td>2003</td>\n",
       "      <td>12</td>\n",
       "      <td>0.0</td>\n",
       "      <td>856.0</td>\n",
       "      <td>208500.0</td>\n",
       "    </tr>\n",
       "    <tr>\n",
       "      <th>1</th>\n",
       "      <td>20</td>\n",
       "      <td>3</td>\n",
       "      <td>9600</td>\n",
       "      <td>2</td>\n",
       "      <td>0</td>\n",
       "      <td>8</td>\n",
       "      <td>1976</td>\n",
       "      <td>1976</td>\n",
       "      <td>8</td>\n",
       "      <td>0.0</td>\n",
       "      <td>1262.0</td>\n",
       "      <td>181500.0</td>\n",
       "    </tr>\n",
       "    <tr>\n",
       "      <th>2</th>\n",
       "      <td>60</td>\n",
       "      <td>3</td>\n",
       "      <td>11250</td>\n",
       "      <td>4</td>\n",
       "      <td>0</td>\n",
       "      <td>5</td>\n",
       "      <td>2001</td>\n",
       "      <td>2002</td>\n",
       "      <td>12</td>\n",
       "      <td>0.0</td>\n",
       "      <td>920.0</td>\n",
       "      <td>223500.0</td>\n",
       "    </tr>\n",
       "    <tr>\n",
       "      <th>3</th>\n",
       "      <td>70</td>\n",
       "      <td>3</td>\n",
       "      <td>9550</td>\n",
       "      <td>0</td>\n",
       "      <td>0</td>\n",
       "      <td>5</td>\n",
       "      <td>1915</td>\n",
       "      <td>1970</td>\n",
       "      <td>13</td>\n",
       "      <td>0.0</td>\n",
       "      <td>756.0</td>\n",
       "      <td>140000.0</td>\n",
       "    </tr>\n",
       "    <tr>\n",
       "      <th>4</th>\n",
       "      <td>60</td>\n",
       "      <td>3</td>\n",
       "      <td>14260</td>\n",
       "      <td>2</td>\n",
       "      <td>0</td>\n",
       "      <td>5</td>\n",
       "      <td>2000</td>\n",
       "      <td>2000</td>\n",
       "      <td>12</td>\n",
       "      <td>0.0</td>\n",
       "      <td>1145.0</td>\n",
       "      <td>250000.0</td>\n",
       "    </tr>\n",
       "  </tbody>\n",
       "</table>\n",
       "</div>"
      ],
      "text/plain": [
       "   MSSubClass  MSZoning  LotArea  LotConfig  BldgType  OverallCond  YearBuilt  \\\n",
       "0          60         3     8450          4         0            5       2003   \n",
       "1          20         3     9600          2         0            8       1976   \n",
       "2          60         3    11250          4         0            5       2001   \n",
       "3          70         3     9550          0         0            5       1915   \n",
       "4          60         3    14260          2         0            5       2000   \n",
       "\n",
       "   YearRemodAdd  Exterior1st  BsmtFinSF2  TotalBsmtSF  SalePrice  \n",
       "0          2003           12         0.0        856.0   208500.0  \n",
       "1          1976            8         0.0       1262.0   181500.0  \n",
       "2          2002           12         0.0        920.0   223500.0  \n",
       "3          1970           13         0.0        756.0   140000.0  \n",
       "4          2000           12         0.0       1145.0   250000.0  "
      ]
     },
     "execution_count": 8,
     "metadata": {},
     "output_type": "execute_result"
    }
   ],
   "source": [
    "housing.head()"
   ]
  },
  {
   "cell_type": "markdown",
   "id": "50bb16b8",
   "metadata": {},
   "source": [
    "# checking if there are any null values "
   ]
  },
  {
   "cell_type": "code",
   "execution_count": 9,
   "id": "d7f44733",
   "metadata": {},
   "outputs": [
    {
     "name": "stdout",
     "output_type": "stream",
     "text": [
      "<class 'pandas.core.frame.DataFrame'>\n",
      "RangeIndex: 2919 entries, 0 to 2918\n",
      "Data columns (total 12 columns):\n",
      " #   Column        Non-Null Count  Dtype  \n",
      "---  ------        --------------  -----  \n",
      " 0   MSSubClass    2919 non-null   int64  \n",
      " 1   MSZoning      2919 non-null   int32  \n",
      " 2   LotArea       2919 non-null   int64  \n",
      " 3   LotConfig     2919 non-null   int32  \n",
      " 4   BldgType      2919 non-null   int32  \n",
      " 5   OverallCond   2919 non-null   int64  \n",
      " 6   YearBuilt     2919 non-null   int64  \n",
      " 7   YearRemodAdd  2919 non-null   int64  \n",
      " 8   Exterior1st   2919 non-null   int32  \n",
      " 9   BsmtFinSF2    2918 non-null   float64\n",
      " 10  TotalBsmtSF   2918 non-null   float64\n",
      " 11  SalePrice     2919 non-null   float64\n",
      "dtypes: float64(3), int32(4), int64(5)\n",
      "memory usage: 228.2 KB\n"
     ]
    }
   ],
   "source": [
    "housing .info()"
   ]
  },
  {
   "cell_type": "markdown",
   "id": "adba5b58",
   "metadata": {},
   "source": [
    "# Checking basic stats"
   ]
  },
  {
   "cell_type": "code",
   "execution_count": 10,
   "id": "4061e1be",
   "metadata": {
    "scrolled": true
   },
   "outputs": [
    {
     "data": {
      "text/html": [
       "<div>\n",
       "<style scoped>\n",
       "    .dataframe tbody tr th:only-of-type {\n",
       "        vertical-align: middle;\n",
       "    }\n",
       "\n",
       "    .dataframe tbody tr th {\n",
       "        vertical-align: top;\n",
       "    }\n",
       "\n",
       "    .dataframe thead th {\n",
       "        text-align: right;\n",
       "    }\n",
       "</style>\n",
       "<table border=\"1\" class=\"dataframe\">\n",
       "  <thead>\n",
       "    <tr style=\"text-align: right;\">\n",
       "      <th></th>\n",
       "      <th>MSSubClass</th>\n",
       "      <th>MSZoning</th>\n",
       "      <th>LotArea</th>\n",
       "      <th>LotConfig</th>\n",
       "      <th>BldgType</th>\n",
       "      <th>OverallCond</th>\n",
       "      <th>YearBuilt</th>\n",
       "      <th>YearRemodAdd</th>\n",
       "      <th>Exterior1st</th>\n",
       "      <th>BsmtFinSF2</th>\n",
       "      <th>TotalBsmtSF</th>\n",
       "      <th>SalePrice</th>\n",
       "    </tr>\n",
       "  </thead>\n",
       "  <tbody>\n",
       "    <tr>\n",
       "      <th>count</th>\n",
       "      <td>2919.000000</td>\n",
       "      <td>2919.000000</td>\n",
       "      <td>2919.000000</td>\n",
       "      <td>2919.000000</td>\n",
       "      <td>2919.000000</td>\n",
       "      <td>2919.000000</td>\n",
       "      <td>2919.000000</td>\n",
       "      <td>2919.000000</td>\n",
       "      <td>2919.000000</td>\n",
       "      <td>2918.000000</td>\n",
       "      <td>2918.000000</td>\n",
       "      <td>2919.000000</td>\n",
       "    </tr>\n",
       "    <tr>\n",
       "      <th>mean</th>\n",
       "      <td>57.137718</td>\n",
       "      <td>3.030490</td>\n",
       "      <td>10168.114080</td>\n",
       "      <td>3.055841</td>\n",
       "      <td>0.505653</td>\n",
       "      <td>5.564577</td>\n",
       "      <td>1971.312778</td>\n",
       "      <td>1984.264474</td>\n",
       "      <td>9.625214</td>\n",
       "      <td>49.582248</td>\n",
       "      <td>1051.777587</td>\n",
       "      <td>155148.387667</td>\n",
       "    </tr>\n",
       "    <tr>\n",
       "      <th>std</th>\n",
       "      <td>42.517628</td>\n",
       "      <td>0.662386</td>\n",
       "      <td>7886.996359</td>\n",
       "      <td>1.604472</td>\n",
       "      <td>1.206513</td>\n",
       "      <td>1.113131</td>\n",
       "      <td>30.291442</td>\n",
       "      <td>20.894344</td>\n",
       "      <td>3.200303</td>\n",
       "      <td>169.205611</td>\n",
       "      <td>440.766258</td>\n",
       "      <td>72978.836314</td>\n",
       "    </tr>\n",
       "    <tr>\n",
       "      <th>min</th>\n",
       "      <td>20.000000</td>\n",
       "      <td>0.000000</td>\n",
       "      <td>1300.000000</td>\n",
       "      <td>0.000000</td>\n",
       "      <td>0.000000</td>\n",
       "      <td>1.000000</td>\n",
       "      <td>1872.000000</td>\n",
       "      <td>1950.000000</td>\n",
       "      <td>0.000000</td>\n",
       "      <td>0.000000</td>\n",
       "      <td>0.000000</td>\n",
       "      <td>0.000000</td>\n",
       "    </tr>\n",
       "    <tr>\n",
       "      <th>25%</th>\n",
       "      <td>20.000000</td>\n",
       "      <td>3.000000</td>\n",
       "      <td>7478.000000</td>\n",
       "      <td>2.000000</td>\n",
       "      <td>0.000000</td>\n",
       "      <td>5.000000</td>\n",
       "      <td>1953.500000</td>\n",
       "      <td>1965.000000</td>\n",
       "      <td>8.000000</td>\n",
       "      <td>0.000000</td>\n",
       "      <td>793.000000</td>\n",
       "      <td>109950.000000</td>\n",
       "    </tr>\n",
       "    <tr>\n",
       "      <th>50%</th>\n",
       "      <td>50.000000</td>\n",
       "      <td>3.000000</td>\n",
       "      <td>9453.000000</td>\n",
       "      <td>4.000000</td>\n",
       "      <td>0.000000</td>\n",
       "      <td>5.000000</td>\n",
       "      <td>1973.000000</td>\n",
       "      <td>1993.000000</td>\n",
       "      <td>12.000000</td>\n",
       "      <td>0.000000</td>\n",
       "      <td>989.500000</td>\n",
       "      <td>141682.300000</td>\n",
       "    </tr>\n",
       "    <tr>\n",
       "      <th>75%</th>\n",
       "      <td>70.000000</td>\n",
       "      <td>3.000000</td>\n",
       "      <td>11570.000000</td>\n",
       "      <td>4.000000</td>\n",
       "      <td>0.000000</td>\n",
       "      <td>6.000000</td>\n",
       "      <td>2001.000000</td>\n",
       "      <td>2004.000000</td>\n",
       "      <td>12.000000</td>\n",
       "      <td>0.000000</td>\n",
       "      <td>1302.000000</td>\n",
       "      <td>187300.000000</td>\n",
       "    </tr>\n",
       "    <tr>\n",
       "      <th>max</th>\n",
       "      <td>190.000000</td>\n",
       "      <td>5.000000</td>\n",
       "      <td>215245.000000</td>\n",
       "      <td>4.000000</td>\n",
       "      <td>4.000000</td>\n",
       "      <td>9.000000</td>\n",
       "      <td>2010.000000</td>\n",
       "      <td>2010.000000</td>\n",
       "      <td>15.000000</td>\n",
       "      <td>1526.000000</td>\n",
       "      <td>6110.000000</td>\n",
       "      <td>755000.000000</td>\n",
       "    </tr>\n",
       "  </tbody>\n",
       "</table>\n",
       "</div>"
      ],
      "text/plain": [
       "        MSSubClass     MSZoning        LotArea    LotConfig     BldgType  \\\n",
       "count  2919.000000  2919.000000    2919.000000  2919.000000  2919.000000   \n",
       "mean     57.137718     3.030490   10168.114080     3.055841     0.505653   \n",
       "std      42.517628     0.662386    7886.996359     1.604472     1.206513   \n",
       "min      20.000000     0.000000    1300.000000     0.000000     0.000000   \n",
       "25%      20.000000     3.000000    7478.000000     2.000000     0.000000   \n",
       "50%      50.000000     3.000000    9453.000000     4.000000     0.000000   \n",
       "75%      70.000000     3.000000   11570.000000     4.000000     0.000000   \n",
       "max     190.000000     5.000000  215245.000000     4.000000     4.000000   \n",
       "\n",
       "       OverallCond    YearBuilt  YearRemodAdd  Exterior1st   BsmtFinSF2  \\\n",
       "count  2919.000000  2919.000000   2919.000000  2919.000000  2918.000000   \n",
       "mean      5.564577  1971.312778   1984.264474     9.625214    49.582248   \n",
       "std       1.113131    30.291442     20.894344     3.200303   169.205611   \n",
       "min       1.000000  1872.000000   1950.000000     0.000000     0.000000   \n",
       "25%       5.000000  1953.500000   1965.000000     8.000000     0.000000   \n",
       "50%       5.000000  1973.000000   1993.000000    12.000000     0.000000   \n",
       "75%       6.000000  2001.000000   2004.000000    12.000000     0.000000   \n",
       "max       9.000000  2010.000000   2010.000000    15.000000  1526.000000   \n",
       "\n",
       "       TotalBsmtSF      SalePrice  \n",
       "count  2918.000000    2919.000000  \n",
       "mean   1051.777587  155148.387667  \n",
       "std     440.766258   72978.836314  \n",
       "min       0.000000       0.000000  \n",
       "25%     793.000000  109950.000000  \n",
       "50%     989.500000  141682.300000  \n",
       "75%    1302.000000  187300.000000  \n",
       "max    6110.000000  755000.000000  "
      ]
     },
     "execution_count": 10,
     "metadata": {},
     "output_type": "execute_result"
    }
   ],
   "source": [
    "housing.describe()"
   ]
  },
  {
   "cell_type": "code",
   "execution_count": 11,
   "id": "af4d2f25",
   "metadata": {},
   "outputs": [],
   "source": [
    "housing['SalePrice'] = housing['SalePrice'].fillna(\n",
    "  housing['SalePrice'].mean())"
   ]
  },
  {
   "cell_type": "code",
   "execution_count": 12,
   "id": "01d45a81",
   "metadata": {},
   "outputs": [],
   "source": [
    "new_housing = housing.dropna()\n",
    "housing=new_housing"
   ]
  },
  {
   "cell_type": "code",
   "execution_count": 13,
   "id": "4d8084f5",
   "metadata": {},
   "outputs": [
    {
     "data": {
      "text/html": [
       "<div>\n",
       "<style scoped>\n",
       "    .dataframe tbody tr th:only-of-type {\n",
       "        vertical-align: middle;\n",
       "    }\n",
       "\n",
       "    .dataframe tbody tr th {\n",
       "        vertical-align: top;\n",
       "    }\n",
       "\n",
       "    .dataframe thead th {\n",
       "        text-align: right;\n",
       "    }\n",
       "</style>\n",
       "<table border=\"1\" class=\"dataframe\">\n",
       "  <thead>\n",
       "    <tr style=\"text-align: right;\">\n",
       "      <th></th>\n",
       "      <th>MSSubClass</th>\n",
       "      <th>MSZoning</th>\n",
       "      <th>LotArea</th>\n",
       "      <th>LotConfig</th>\n",
       "      <th>BldgType</th>\n",
       "      <th>OverallCond</th>\n",
       "      <th>YearBuilt</th>\n",
       "      <th>YearRemodAdd</th>\n",
       "      <th>Exterior1st</th>\n",
       "      <th>BsmtFinSF2</th>\n",
       "      <th>TotalBsmtSF</th>\n",
       "      <th>SalePrice</th>\n",
       "    </tr>\n",
       "  </thead>\n",
       "  <tbody>\n",
       "    <tr>\n",
       "      <th>count</th>\n",
       "      <td>2918.000000</td>\n",
       "      <td>2918.000000</td>\n",
       "      <td>2918.000000</td>\n",
       "      <td>2918.000000</td>\n",
       "      <td>2918.000000</td>\n",
       "      <td>2918.000000</td>\n",
       "      <td>2918.000000</td>\n",
       "      <td>2918.000000</td>\n",
       "      <td>2918.000000</td>\n",
       "      <td>2918.000000</td>\n",
       "      <td>2918.000000</td>\n",
       "      <td>2918.000000</td>\n",
       "    </tr>\n",
       "    <tr>\n",
       "      <th>mean</th>\n",
       "      <td>57.150446</td>\n",
       "      <td>3.030158</td>\n",
       "      <td>10169.563057</td>\n",
       "      <td>3.055860</td>\n",
       "      <td>0.505826</td>\n",
       "      <td>5.564085</td>\n",
       "      <td>1971.321453</td>\n",
       "      <td>1984.276217</td>\n",
       "      <td>9.625771</td>\n",
       "      <td>49.582248</td>\n",
       "      <td>1051.777587</td>\n",
       "      <td>155201.557094</td>\n",
       "    </tr>\n",
       "    <tr>\n",
       "      <th>std</th>\n",
       "      <td>42.519354</td>\n",
       "      <td>0.662256</td>\n",
       "      <td>7887.959547</td>\n",
       "      <td>1.604747</td>\n",
       "      <td>1.206684</td>\n",
       "      <td>1.113004</td>\n",
       "      <td>30.293007</td>\n",
       "      <td>20.888290</td>\n",
       "      <td>3.200710</td>\n",
       "      <td>169.205611</td>\n",
       "      <td>440.766258</td>\n",
       "      <td>72934.776073</td>\n",
       "    </tr>\n",
       "    <tr>\n",
       "      <th>min</th>\n",
       "      <td>20.000000</td>\n",
       "      <td>0.000000</td>\n",
       "      <td>1300.000000</td>\n",
       "      <td>0.000000</td>\n",
       "      <td>0.000000</td>\n",
       "      <td>1.000000</td>\n",
       "      <td>1872.000000</td>\n",
       "      <td>1950.000000</td>\n",
       "      <td>0.000000</td>\n",
       "      <td>0.000000</td>\n",
       "      <td>0.000000</td>\n",
       "      <td>0.000000</td>\n",
       "    </tr>\n",
       "    <tr>\n",
       "      <th>25%</th>\n",
       "      <td>20.000000</td>\n",
       "      <td>3.000000</td>\n",
       "      <td>7482.000000</td>\n",
       "      <td>2.000000</td>\n",
       "      <td>0.000000</td>\n",
       "      <td>5.000000</td>\n",
       "      <td>1954.000000</td>\n",
       "      <td>1965.000000</td>\n",
       "      <td>8.000000</td>\n",
       "      <td>0.000000</td>\n",
       "      <td>793.000000</td>\n",
       "      <td>110000.000000</td>\n",
       "    </tr>\n",
       "    <tr>\n",
       "      <th>50%</th>\n",
       "      <td>50.000000</td>\n",
       "      <td>3.000000</td>\n",
       "      <td>9455.000000</td>\n",
       "      <td>4.000000</td>\n",
       "      <td>0.000000</td>\n",
       "      <td>5.000000</td>\n",
       "      <td>1973.000000</td>\n",
       "      <td>1993.000000</td>\n",
       "      <td>12.000000</td>\n",
       "      <td>0.000000</td>\n",
       "      <td>989.500000</td>\n",
       "      <td>141682.300000</td>\n",
       "    </tr>\n",
       "    <tr>\n",
       "      <th>75%</th>\n",
       "      <td>70.000000</td>\n",
       "      <td>3.000000</td>\n",
       "      <td>11573.500000</td>\n",
       "      <td>4.000000</td>\n",
       "      <td>0.000000</td>\n",
       "      <td>6.000000</td>\n",
       "      <td>2001.000000</td>\n",
       "      <td>2004.000000</td>\n",
       "      <td>12.000000</td>\n",
       "      <td>0.000000</td>\n",
       "      <td>1302.000000</td>\n",
       "      <td>187400.000000</td>\n",
       "    </tr>\n",
       "    <tr>\n",
       "      <th>max</th>\n",
       "      <td>190.000000</td>\n",
       "      <td>5.000000</td>\n",
       "      <td>215245.000000</td>\n",
       "      <td>4.000000</td>\n",
       "      <td>4.000000</td>\n",
       "      <td>9.000000</td>\n",
       "      <td>2010.000000</td>\n",
       "      <td>2010.000000</td>\n",
       "      <td>15.000000</td>\n",
       "      <td>1526.000000</td>\n",
       "      <td>6110.000000</td>\n",
       "      <td>755000.000000</td>\n",
       "    </tr>\n",
       "  </tbody>\n",
       "</table>\n",
       "</div>"
      ],
      "text/plain": [
       "        MSSubClass     MSZoning        LotArea    LotConfig     BldgType  \\\n",
       "count  2918.000000  2918.000000    2918.000000  2918.000000  2918.000000   \n",
       "mean     57.150446     3.030158   10169.563057     3.055860     0.505826   \n",
       "std      42.519354     0.662256    7887.959547     1.604747     1.206684   \n",
       "min      20.000000     0.000000    1300.000000     0.000000     0.000000   \n",
       "25%      20.000000     3.000000    7482.000000     2.000000     0.000000   \n",
       "50%      50.000000     3.000000    9455.000000     4.000000     0.000000   \n",
       "75%      70.000000     3.000000   11573.500000     4.000000     0.000000   \n",
       "max     190.000000     5.000000  215245.000000     4.000000     4.000000   \n",
       "\n",
       "       OverallCond    YearBuilt  YearRemodAdd  Exterior1st   BsmtFinSF2  \\\n",
       "count  2918.000000  2918.000000   2918.000000  2918.000000  2918.000000   \n",
       "mean      5.564085  1971.321453   1984.276217     9.625771    49.582248   \n",
       "std       1.113004    30.293007     20.888290     3.200710   169.205611   \n",
       "min       1.000000  1872.000000   1950.000000     0.000000     0.000000   \n",
       "25%       5.000000  1954.000000   1965.000000     8.000000     0.000000   \n",
       "50%       5.000000  1973.000000   1993.000000    12.000000     0.000000   \n",
       "75%       6.000000  2001.000000   2004.000000    12.000000     0.000000   \n",
       "max       9.000000  2010.000000   2010.000000    15.000000  1526.000000   \n",
       "\n",
       "       TotalBsmtSF      SalePrice  \n",
       "count  2918.000000    2918.000000  \n",
       "mean   1051.777587  155201.557094  \n",
       "std     440.766258   72934.776073  \n",
       "min       0.000000       0.000000  \n",
       "25%     793.000000  110000.000000  \n",
       "50%     989.500000  141682.300000  \n",
       "75%    1302.000000  187400.000000  \n",
       "max    6110.000000  755000.000000  "
      ]
     },
     "execution_count": 13,
     "metadata": {},
     "output_type": "execute_result"
    }
   ],
   "source": [
    "housing.describe()"
   ]
  },
  {
   "cell_type": "markdown",
   "id": "b347146e",
   "metadata": {},
   "source": [
    "# Counting values of different attributes\n"
   ]
  },
  {
   "cell_type": "code",
   "execution_count": 14,
   "id": "3c3d86cd",
   "metadata": {},
   "outputs": [
    {
     "data": {
      "text/plain": [
       "20     1078\n",
       "60      575\n",
       "50      287\n",
       "120     182\n",
       "30      139\n",
       "70      128\n",
       "160     128\n",
       "80      118\n",
       "90      109\n",
       "190      61\n",
       "85       48\n",
       "75       23\n",
       "45       18\n",
       "180      17\n",
       "40        6\n",
       "150       1\n",
       "Name: MSSubClass, dtype: int64"
      ]
     },
     "execution_count": 14,
     "metadata": {},
     "output_type": "execute_result"
    }
   ],
   "source": [
    "housing['MSSubClass'].value_counts()"
   ]
  },
  {
   "cell_type": "code",
   "execution_count": 15,
   "id": "2197e781",
   "metadata": {},
   "outputs": [
    {
     "data": {
      "text/plain": [
       "3    2265\n",
       "4     459\n",
       "1     139\n",
       "2      26\n",
       "0      25\n",
       "5       4\n",
       "Name: MSZoning, dtype: int64"
      ]
     },
     "execution_count": 15,
     "metadata": {},
     "output_type": "execute_result"
    }
   ],
   "source": [
    "housing['MSZoning'].value_counts()"
   ]
  },
  {
   "cell_type": "code",
   "execution_count": 16,
   "id": "facee48a",
   "metadata": {},
   "outputs": [
    {
     "data": {
      "text/plain": [
       "12    1025\n",
       "8      449\n",
       "6      442\n",
       "13     411\n",
       "9      221\n",
       "5      126\n",
       "3       87\n",
       "14      56\n",
       "0       44\n",
       "11      43\n",
       "2        6\n",
       "1        2\n",
       "10       2\n",
       "4        2\n",
       "7        1\n",
       "15       1\n",
       "Name: Exterior1st, dtype: int64"
      ]
     },
     "execution_count": 16,
     "metadata": {},
     "output_type": "execute_result"
    }
   ],
   "source": [
    "housing['Exterior1st'].value_counts()"
   ]
  },
  {
   "cell_type": "markdown",
   "id": "3fb3dd55",
   "metadata": {},
   "source": [
    "# Creating histogram for different attributes"
   ]
  },
  {
   "cell_type": "code",
   "execution_count": 17,
   "id": "bc21fe5d",
   "metadata": {},
   "outputs": [],
   "source": [
    "%matplotlib inline"
   ]
  },
  {
   "cell_type": "code",
   "execution_count": 18,
   "id": "d2219375",
   "metadata": {},
   "outputs": [],
   "source": [
    "#For plotting histogram\n",
    "# import matplotlib.pyplot as plt\n",
    "# housing.hist(bins=50, figsize=(20,15))"
   ]
  },
  {
   "cell_type": "markdown",
   "id": "145957d8",
   "metadata": {},
   "source": [
    "## Train Test Splitting"
   ]
  },
  {
   "cell_type": "code",
   "execution_count": 19,
   "id": "e2162922",
   "metadata": {},
   "outputs": [],
   "source": [
    "import numpy as np\n",
    "\n",
    "\n",
    "def split_train_test(data, test_ratio):\n",
    "    np.random.seed(42)\n",
    "    shuffled_indices = np.random.permutation(len(data))\n",
    "    test_set_size = int(len(data) * test_ratio)\n",
    "    test_indices = shuffled_indices[:test_set_size]\n",
    "    train_indices = shuffled_indices[test_set_size:]\n",
    "    return data.iloc[train_indices], data.iloc[test_indices]"
   ]
  },
  {
   "cell_type": "code",
   "execution_count": 20,
   "id": "2035ba6c",
   "metadata": {},
   "outputs": [],
   "source": [
    "train_set, test_set = split_train_test(housing, 0.2)"
   ]
  },
  {
   "cell_type": "code",
   "execution_count": 21,
   "id": "4d3336c4",
   "metadata": {},
   "outputs": [
    {
     "name": "stdout",
     "output_type": "stream",
     "text": [
      "Rows in train set:2335\n",
      "Rows in test set: 583\n",
      "\n"
     ]
    }
   ],
   "source": [
    "print(f\"Rows in train set:{len(train_set)}\\nRows in test set: {len(test_set)}\\n\")"
   ]
  },
  {
   "cell_type": "code",
   "execution_count": 22,
   "id": "cd477736",
   "metadata": {},
   "outputs": [],
   "source": [
    "# There are definite number of values of MSSubClass,\n",
    "# what if train set misses few of the values,\n",
    "# later those missing value will appear in the test set while testing\n",
    "# it will create problem because training set has never seen such data before\n",
    "# so we have to maximize the values of data such that most of the values would fall in the training set"
   ]
  },
  {
   "cell_type": "markdown",
   "id": "8e84d112",
   "metadata": {},
   "source": [
    "# Using StratifiedShuffleSplit to cover the maximum values in of a specific attribute"
   ]
  },
  {
   "cell_type": "code",
   "execution_count": 23,
   "id": "66f5b84e",
   "metadata": {},
   "outputs": [],
   "source": [
    "from sklearn.model_selection import StratifiedShuffleSplit\n",
    "split = StratifiedShuffleSplit(n_splits=1, test_size=0.2, random_state=42)\n",
    "\n",
    "housing = housing.reset_index(drop=True)  # reset the index\n",
    "\n",
    "for train_index, test_index in split.split(housing, housing['OverallCond']):\n",
    "    strat_train_set = housing.loc[train_index].copy()\n",
    "    strat_test_set = housing.loc[test_index].copy()"
   ]
  },
  {
   "cell_type": "code",
   "execution_count": 24,
   "id": "c67537cb",
   "metadata": {},
   "outputs": [
    {
     "data": {
      "text/html": [
       "<div>\n",
       "<style scoped>\n",
       "    .dataframe tbody tr th:only-of-type {\n",
       "        vertical-align: middle;\n",
       "    }\n",
       "\n",
       "    .dataframe tbody tr th {\n",
       "        vertical-align: top;\n",
       "    }\n",
       "\n",
       "    .dataframe thead th {\n",
       "        text-align: right;\n",
       "    }\n",
       "</style>\n",
       "<table border=\"1\" class=\"dataframe\">\n",
       "  <thead>\n",
       "    <tr style=\"text-align: right;\">\n",
       "      <th></th>\n",
       "      <th>MSSubClass</th>\n",
       "      <th>MSZoning</th>\n",
       "      <th>LotArea</th>\n",
       "      <th>LotConfig</th>\n",
       "      <th>BldgType</th>\n",
       "      <th>OverallCond</th>\n",
       "      <th>YearBuilt</th>\n",
       "      <th>YearRemodAdd</th>\n",
       "      <th>Exterior1st</th>\n",
       "      <th>BsmtFinSF2</th>\n",
       "      <th>TotalBsmtSF</th>\n",
       "      <th>SalePrice</th>\n",
       "    </tr>\n",
       "  </thead>\n",
       "  <tbody>\n",
       "    <tr>\n",
       "      <th>count</th>\n",
       "      <td>2334.000000</td>\n",
       "      <td>2334.000000</td>\n",
       "      <td>2334.000000</td>\n",
       "      <td>2334.000000</td>\n",
       "      <td>2334.000000</td>\n",
       "      <td>2334.000000</td>\n",
       "      <td>2334.000000</td>\n",
       "      <td>2334.000000</td>\n",
       "      <td>2334.000000</td>\n",
       "      <td>2334.000000</td>\n",
       "      <td>2334.000000</td>\n",
       "      <td>2334.000000</td>\n",
       "    </tr>\n",
       "    <tr>\n",
       "      <th>mean</th>\n",
       "      <td>57.407883</td>\n",
       "      <td>3.046701</td>\n",
       "      <td>10075.173093</td>\n",
       "      <td>3.027849</td>\n",
       "      <td>0.510283</td>\n",
       "      <td>5.565124</td>\n",
       "      <td>1971.156384</td>\n",
       "      <td>1984.176521</td>\n",
       "      <td>9.674807</td>\n",
       "      <td>48.314910</td>\n",
       "      <td>1045.976007</td>\n",
       "      <td>154953.443676</td>\n",
       "    </tr>\n",
       "    <tr>\n",
       "      <th>std</th>\n",
       "      <td>42.175453</td>\n",
       "      <td>0.647429</td>\n",
       "      <td>6446.746482</td>\n",
       "      <td>1.619003</td>\n",
       "      <td>1.210621</td>\n",
       "      <td>1.110987</td>\n",
       "      <td>30.297170</td>\n",
       "      <td>20.862163</td>\n",
       "      <td>3.173790</td>\n",
       "      <td>166.185821</td>\n",
       "      <td>432.911408</td>\n",
       "      <td>72198.519336</td>\n",
       "    </tr>\n",
       "    <tr>\n",
       "      <th>min</th>\n",
       "      <td>20.000000</td>\n",
       "      <td>0.000000</td>\n",
       "      <td>1300.000000</td>\n",
       "      <td>0.000000</td>\n",
       "      <td>0.000000</td>\n",
       "      <td>1.000000</td>\n",
       "      <td>1872.000000</td>\n",
       "      <td>1950.000000</td>\n",
       "      <td>0.000000</td>\n",
       "      <td>0.000000</td>\n",
       "      <td>0.000000</td>\n",
       "      <td>0.000000</td>\n",
       "    </tr>\n",
       "    <tr>\n",
       "      <th>25%</th>\n",
       "      <td>20.000000</td>\n",
       "      <td>3.000000</td>\n",
       "      <td>7500.000000</td>\n",
       "      <td>2.000000</td>\n",
       "      <td>0.000000</td>\n",
       "      <td>5.000000</td>\n",
       "      <td>1953.250000</td>\n",
       "      <td>1965.000000</td>\n",
       "      <td>8.000000</td>\n",
       "      <td>0.000000</td>\n",
       "      <td>789.000000</td>\n",
       "      <td>110159.535000</td>\n",
       "    </tr>\n",
       "    <tr>\n",
       "      <th>50%</th>\n",
       "      <td>50.000000</td>\n",
       "      <td>3.000000</td>\n",
       "      <td>9491.000000</td>\n",
       "      <td>4.000000</td>\n",
       "      <td>0.000000</td>\n",
       "      <td>5.000000</td>\n",
       "      <td>1973.000000</td>\n",
       "      <td>1993.000000</td>\n",
       "      <td>12.000000</td>\n",
       "      <td>0.000000</td>\n",
       "      <td>988.000000</td>\n",
       "      <td>141372.950000</td>\n",
       "    </tr>\n",
       "    <tr>\n",
       "      <th>75%</th>\n",
       "      <td>70.000000</td>\n",
       "      <td>3.000000</td>\n",
       "      <td>11640.000000</td>\n",
       "      <td>4.000000</td>\n",
       "      <td>0.000000</td>\n",
       "      <td>6.000000</td>\n",
       "      <td>2000.000000</td>\n",
       "      <td>2003.000000</td>\n",
       "      <td>12.000000</td>\n",
       "      <td>0.000000</td>\n",
       "      <td>1296.000000</td>\n",
       "      <td>186574.940000</td>\n",
       "    </tr>\n",
       "    <tr>\n",
       "      <th>max</th>\n",
       "      <td>190.000000</td>\n",
       "      <td>5.000000</td>\n",
       "      <td>159000.000000</td>\n",
       "      <td>4.000000</td>\n",
       "      <td>4.000000</td>\n",
       "      <td>9.000000</td>\n",
       "      <td>2010.000000</td>\n",
       "      <td>2010.000000</td>\n",
       "      <td>15.000000</td>\n",
       "      <td>1526.000000</td>\n",
       "      <td>5095.000000</td>\n",
       "      <td>755000.000000</td>\n",
       "    </tr>\n",
       "  </tbody>\n",
       "</table>\n",
       "</div>"
      ],
      "text/plain": [
       "        MSSubClass     MSZoning        LotArea    LotConfig     BldgType  \\\n",
       "count  2334.000000  2334.000000    2334.000000  2334.000000  2334.000000   \n",
       "mean     57.407883     3.046701   10075.173093     3.027849     0.510283   \n",
       "std      42.175453     0.647429    6446.746482     1.619003     1.210621   \n",
       "min      20.000000     0.000000    1300.000000     0.000000     0.000000   \n",
       "25%      20.000000     3.000000    7500.000000     2.000000     0.000000   \n",
       "50%      50.000000     3.000000    9491.000000     4.000000     0.000000   \n",
       "75%      70.000000     3.000000   11640.000000     4.000000     0.000000   \n",
       "max     190.000000     5.000000  159000.000000     4.000000     4.000000   \n",
       "\n",
       "       OverallCond    YearBuilt  YearRemodAdd  Exterior1st   BsmtFinSF2  \\\n",
       "count  2334.000000  2334.000000   2334.000000  2334.000000  2334.000000   \n",
       "mean      5.565124  1971.156384   1984.176521     9.674807    48.314910   \n",
       "std       1.110987    30.297170     20.862163     3.173790   166.185821   \n",
       "min       1.000000  1872.000000   1950.000000     0.000000     0.000000   \n",
       "25%       5.000000  1953.250000   1965.000000     8.000000     0.000000   \n",
       "50%       5.000000  1973.000000   1993.000000    12.000000     0.000000   \n",
       "75%       6.000000  2000.000000   2003.000000    12.000000     0.000000   \n",
       "max       9.000000  2010.000000   2010.000000    15.000000  1526.000000   \n",
       "\n",
       "       TotalBsmtSF      SalePrice  \n",
       "count  2334.000000    2334.000000  \n",
       "mean   1045.976007  154953.443676  \n",
       "std     432.911408   72198.519336  \n",
       "min       0.000000       0.000000  \n",
       "25%     789.000000  110159.535000  \n",
       "50%     988.000000  141372.950000  \n",
       "75%    1296.000000  186574.940000  \n",
       "max    5095.000000  755000.000000  "
      ]
     },
     "execution_count": 24,
     "metadata": {},
     "output_type": "execute_result"
    }
   ],
   "source": [
    "strat_train_set.describe()"
   ]
  },
  {
   "cell_type": "code",
   "execution_count": 25,
   "id": "015d5a4f",
   "metadata": {},
   "outputs": [
    {
     "name": "stdout",
     "output_type": "stream",
     "text": [
      "<class 'pandas.core.frame.DataFrame'>\n",
      "Int64Index: 584 entries, 1113 to 1895\n",
      "Data columns (total 12 columns):\n",
      " #   Column        Non-Null Count  Dtype  \n",
      "---  ------        --------------  -----  \n",
      " 0   MSSubClass    584 non-null    int64  \n",
      " 1   MSZoning      584 non-null    int32  \n",
      " 2   LotArea       584 non-null    int64  \n",
      " 3   LotConfig     584 non-null    int32  \n",
      " 4   BldgType      584 non-null    int32  \n",
      " 5   OverallCond   584 non-null    int64  \n",
      " 6   YearBuilt     584 non-null    int64  \n",
      " 7   YearRemodAdd  584 non-null    int64  \n",
      " 8   Exterior1st   584 non-null    int32  \n",
      " 9   BsmtFinSF2    584 non-null    float64\n",
      " 10  TotalBsmtSF   584 non-null    float64\n",
      " 11  SalePrice     584 non-null    float64\n",
      "dtypes: float64(3), int32(4), int64(5)\n",
      "memory usage: 50.2 KB\n"
     ]
    }
   ],
   "source": [
    "strat_test_set.info()"
   ]
  },
  {
   "cell_type": "code",
   "execution_count": 26,
   "id": "6870240c",
   "metadata": {},
   "outputs": [
    {
     "data": {
      "text/plain": [
       "5    329\n",
       "6    106\n",
       "7     78\n",
       "8     29\n",
       "4     20\n",
       "3     10\n",
       "9      8\n",
       "1      2\n",
       "2      2\n",
       "Name: OverallCond, dtype: int64"
      ]
     },
     "execution_count": 26,
     "metadata": {},
     "output_type": "execute_result"
    }
   ],
   "source": [
    "strat_test_set['OverallCond'].value_counts()"
   ]
  },
  {
   "cell_type": "code",
   "execution_count": 27,
   "id": "04bf94eb",
   "metadata": {},
   "outputs": [
    {
     "data": {
      "text/plain": [
       "5    1316\n",
       "6     425\n",
       "7     311\n",
       "8     115\n",
       "4      81\n",
       "3      40\n",
       "9      33\n",
       "2       8\n",
       "1       5\n",
       "Name: OverallCond, dtype: int64"
      ]
     },
     "execution_count": 27,
     "metadata": {},
     "output_type": "execute_result"
    }
   ],
   "source": [
    "strat_train_set['OverallCond'].value_counts()"
   ]
  },
  {
   "cell_type": "markdown",
   "id": "d3873b02",
   "metadata": {},
   "source": [
    "# Looking for correlation"
   ]
  },
  {
   "cell_type": "code",
   "execution_count": 28,
   "id": "ddf72a75",
   "metadata": {},
   "outputs": [],
   "source": [
    "corr_matrix=housing.corr()"
   ]
  },
  {
   "cell_type": "code",
   "execution_count": 29,
   "id": "1c2973c1",
   "metadata": {},
   "outputs": [
    {
     "data": {
      "text/plain": [
       "MSSubClass      1.000000\n",
       "BldgType        0.741502\n",
       "LotConfig       0.073150\n",
       "YearRemodAdd    0.042849\n",
       "YearBuilt       0.034167\n",
       "MSZoning        0.025515\n",
       "OverallCond    -0.065266\n",
       "BsmtFinSF2     -0.072530\n",
       "Exterior1st    -0.112226\n",
       "SalePrice      -0.123879\n",
       "LotArea        -0.201927\n",
       "TotalBsmtSF    -0.219965\n",
       "Name: MSSubClass, dtype: float64"
      ]
     },
     "execution_count": 29,
     "metadata": {},
     "output_type": "execute_result"
    }
   ],
   "source": [
    "corr_matrix['MSSubClass'].sort_values(ascending=False)"
   ]
  },
  {
   "cell_type": "code",
   "execution_count": 30,
   "id": "5d6e9363",
   "metadata": {},
   "outputs": [
    {
     "data": {
      "text/plain": [
       "LotArea         1.000000\n",
       "SalePrice       0.264189\n",
       "TotalBsmtSF     0.254138\n",
       "BsmtFinSF2      0.084059\n",
       "YearBuilt       0.023978\n",
       "YearRemodAdd    0.021322\n",
       "Exterior1st     0.014078\n",
       "MSZoning       -0.022855\n",
       "OverallCond    -0.035392\n",
       "LotConfig      -0.117700\n",
       "MSSubClass     -0.201927\n",
       "BldgType       -0.257770\n",
       "Name: LotArea, dtype: float64"
      ]
     },
     "execution_count": 30,
     "metadata": {},
     "output_type": "execute_result"
    }
   ],
   "source": [
    "corr_matrix['LotArea'].sort_values(ascending=False)"
   ]
  },
  {
   "cell_type": "code",
   "execution_count": 31,
   "id": "bc571701",
   "metadata": {},
   "outputs": [
    {
     "data": {
      "text/plain": [
       "SalePrice       1.000000\n",
       "TotalBsmtSF     0.714382\n",
       "YearBuilt       0.443609\n",
       "YearRemodAdd    0.398581\n",
       "LotArea         0.264189\n",
       "Exterior1st     0.063430\n",
       "BsmtFinSF2      0.017591\n",
       "BldgType       -0.044138\n",
       "LotConfig      -0.059180\n",
       "OverallCond    -0.105366\n",
       "MSSubClass     -0.123879\n",
       "MSZoning       -0.143015\n",
       "Name: SalePrice, dtype: float64"
      ]
     },
     "execution_count": 31,
     "metadata": {},
     "output_type": "execute_result"
    }
   ],
   "source": [
    "corr_matrix['SalePrice'].sort_values(ascending=False)"
   ]
  },
  {
   "cell_type": "code",
   "execution_count": 32,
   "id": "a1a80bfa",
   "metadata": {},
   "outputs": [
    {
     "data": {
      "text/plain": [
       "<AxesSubplot: xlabel='TotalBsmtSF', ylabel='SalePrice'>"
      ]
     },
     "execution_count": 32,
     "metadata": {},
     "output_type": "execute_result"
    },
    {
     "data": {
      "image/png": "[encoded data removed]",
      "text/plain": [
       "<Figure size 640x480 with 1 Axes>"
      ]
     },
     "metadata": {},
     "output_type": "display_data"
    }
   ],
   "source": [
    "from pandas.plotting import scatter_matrix\n",
    "housing.plot(kind=\"scatter\", x=\"TotalBsmtSF\", y=\"SalePrice\", alpha=0.05)"
   ]
  },
  {
   "cell_type": "markdown",
   "id": "14625b50",
   "metadata": {},
   "source": [
    "# Trying out attribute cobinations"
   ]
  },
  {
   "cell_type": "code",
   "execution_count": 33,
   "id": "82a97fe8",
   "metadata": {},
   "outputs": [],
   "source": [
    "housing[\"LeftArea\"]=housing['LotArea']-housing['TotalBsmtSF']"
   ]
  },
  {
   "cell_type": "code",
   "execution_count": 34,
   "id": "a62046a2",
   "metadata": {},
   "outputs": [
    {
     "data": {
      "text/plain": [
       "0        7594.0\n",
       "1        8338.0\n",
       "2       10330.0\n",
       "3        8794.0\n",
       "4       13115.0\n",
       "         ...   \n",
       "2913     1390.0\n",
       "2914     1348.0\n",
       "2915    18776.0\n",
       "2916     9529.0\n",
       "2917     8631.0\n",
       "Name: LeftArea, Length: 2918, dtype: float64"
      ]
     },
     "execution_count": 34,
     "metadata": {},
     "output_type": "execute_result"
    }
   ],
   "source": [
    "housing[\"LeftArea\"]"
   ]
  },
  {
   "cell_type": "code",
   "execution_count": 35,
   "id": "4a49044d",
   "metadata": {},
   "outputs": [
    {
     "data": {
      "text/html": [
       "<div>\n",
       "<style scoped>\n",
       "    .dataframe tbody tr th:only-of-type {\n",
       "        vertical-align: middle;\n",
       "    }\n",
       "\n",
       "    .dataframe tbody tr th {\n",
       "        vertical-align: top;\n",
       "    }\n",
       "\n",
       "    .dataframe thead th {\n",
       "        text-align: right;\n",
       "    }\n",
       "</style>\n",
       "<table border=\"1\" class=\"dataframe\">\n",
       "  <thead>\n",
       "    <tr style=\"text-align: right;\">\n",
       "      <th></th>\n",
       "      <th>MSSubClass</th>\n",
       "      <th>MSZoning</th>\n",
       "      <th>LotArea</th>\n",
       "      <th>LotConfig</th>\n",
       "      <th>BldgType</th>\n",
       "      <th>OverallCond</th>\n",
       "      <th>YearBuilt</th>\n",
       "      <th>YearRemodAdd</th>\n",
       "      <th>Exterior1st</th>\n",
       "      <th>BsmtFinSF2</th>\n",
       "      <th>TotalBsmtSF</th>\n",
       "      <th>SalePrice</th>\n",
       "      <th>LeftArea</th>\n",
       "    </tr>\n",
       "  </thead>\n",
       "  <tbody>\n",
       "    <tr>\n",
       "      <th>0</th>\n",
       "      <td>60</td>\n",
       "      <td>3</td>\n",
       "      <td>8450</td>\n",
       "      <td>4</td>\n",
       "      <td>0</td>\n",
       "      <td>5</td>\n",
       "      <td>2003</td>\n",
       "      <td>2003</td>\n",
       "      <td>12</td>\n",
       "      <td>0.0</td>\n",
       "      <td>856.0</td>\n",
       "      <td>208500.0</td>\n",
       "      <td>7594.0</td>\n",
       "    </tr>\n",
       "    <tr>\n",
       "      <th>1</th>\n",
       "      <td>20</td>\n",
       "      <td>3</td>\n",
       "      <td>9600</td>\n",
       "      <td>2</td>\n",
       "      <td>0</td>\n",
       "      <td>8</td>\n",
       "      <td>1976</td>\n",
       "      <td>1976</td>\n",
       "      <td>8</td>\n",
       "      <td>0.0</td>\n",
       "      <td>1262.0</td>\n",
       "      <td>181500.0</td>\n",
       "      <td>8338.0</td>\n",
       "    </tr>\n",
       "    <tr>\n",
       "      <th>2</th>\n",
       "      <td>60</td>\n",
       "      <td>3</td>\n",
       "      <td>11250</td>\n",
       "      <td>4</td>\n",
       "      <td>0</td>\n",
       "      <td>5</td>\n",
       "      <td>2001</td>\n",
       "      <td>2002</td>\n",
       "      <td>12</td>\n",
       "      <td>0.0</td>\n",
       "      <td>920.0</td>\n",
       "      <td>223500.0</td>\n",
       "      <td>10330.0</td>\n",
       "    </tr>\n",
       "    <tr>\n",
       "      <th>3</th>\n",
       "      <td>70</td>\n",
       "      <td>3</td>\n",
       "      <td>9550</td>\n",
       "      <td>0</td>\n",
       "      <td>0</td>\n",
       "      <td>5</td>\n",
       "      <td>1915</td>\n",
       "      <td>1970</td>\n",
       "      <td>13</td>\n",
       "      <td>0.0</td>\n",
       "      <td>756.0</td>\n",
       "      <td>140000.0</td>\n",
       "      <td>8794.0</td>\n",
       "    </tr>\n",
       "    <tr>\n",
       "      <th>4</th>\n",
       "      <td>60</td>\n",
       "      <td>3</td>\n",
       "      <td>14260</td>\n",
       "      <td>2</td>\n",
       "      <td>0</td>\n",
       "      <td>5</td>\n",
       "      <td>2000</td>\n",
       "      <td>2000</td>\n",
       "      <td>12</td>\n",
       "      <td>0.0</td>\n",
       "      <td>1145.0</td>\n",
       "      <td>250000.0</td>\n",
       "      <td>13115.0</td>\n",
       "    </tr>\n",
       "  </tbody>\n",
       "</table>\n",
       "</div>"
      ],
      "text/plain": [
       "   MSSubClass  MSZoning  LotArea  LotConfig  BldgType  OverallCond  YearBuilt  \\\n",
       "0          60         3     8450          4         0            5       2003   \n",
       "1          20         3     9600          2         0            8       1976   \n",
       "2          60         3    11250          4         0            5       2001   \n",
       "3          70         3     9550          0         0            5       1915   \n",
       "4          60         3    14260          2         0            5       2000   \n",
       "\n",
       "   YearRemodAdd  Exterior1st  BsmtFinSF2  TotalBsmtSF  SalePrice  LeftArea  \n",
       "0          2003           12         0.0        856.0   208500.0    7594.0  \n",
       "1          1976            8         0.0       1262.0   181500.0    8338.0  \n",
       "2          2002           12         0.0        920.0   223500.0   10330.0  \n",
       "3          1970           13         0.0        756.0   140000.0    8794.0  \n",
       "4          2000           12         0.0       1145.0   250000.0   13115.0  "
      ]
     },
     "execution_count": 35,
     "metadata": {},
     "output_type": "execute_result"
    }
   ],
   "source": [
    "housing.head()"
   ]
  },
  {
   "cell_type": "code",
   "execution_count": 36,
   "id": "d05d5a19",
   "metadata": {},
   "outputs": [
    {
     "data": {
      "text/plain": [
       "<AxesSubplot: xlabel='LeftArea', ylabel='SalePrice'>"
      ]
     },
     "execution_count": 36,
     "metadata": {},
     "output_type": "execute_result"
    },
    {
     "data": {
      "image/png": "[encoded data removed]",
      "text/plain": [
       "<Figure size 640x480 with 1 Axes>"
      ]
     },
     "metadata": {},
     "output_type": "display_data"
    }
   ],
   "source": [
    "housing.plot(kind=\"scatter\", x=\"LeftArea\", y=\"SalePrice\", alpha=0.05)"
   ]
  },
  {
   "cell_type": "code",
   "execution_count": 37,
   "id": "d2a08cba",
   "metadata": {},
   "outputs": [
    {
     "data": {
      "text/html": [
       "<div>\n",
       "<style scoped>\n",
       "    .dataframe tbody tr th:only-of-type {\n",
       "        vertical-align: middle;\n",
       "    }\n",
       "\n",
       "    .dataframe tbody tr th {\n",
       "        vertical-align: top;\n",
       "    }\n",
       "\n",
       "    .dataframe thead th {\n",
       "        text-align: right;\n",
       "    }\n",
       "</style>\n",
       "<table border=\"1\" class=\"dataframe\">\n",
       "  <thead>\n",
       "    <tr style=\"text-align: right;\">\n",
       "      <th></th>\n",
       "      <th>MSSubClass</th>\n",
       "      <th>MSZoning</th>\n",
       "      <th>LotArea</th>\n",
       "      <th>LotConfig</th>\n",
       "      <th>BldgType</th>\n",
       "      <th>OverallCond</th>\n",
       "      <th>YearBuilt</th>\n",
       "      <th>YearRemodAdd</th>\n",
       "      <th>Exterior1st</th>\n",
       "      <th>BsmtFinSF2</th>\n",
       "      <th>TotalBsmtSF</th>\n",
       "      <th>SalePrice</th>\n",
       "      <th>LeftArea</th>\n",
       "    </tr>\n",
       "  </thead>\n",
       "  <tbody>\n",
       "    <tr>\n",
       "      <th>0</th>\n",
       "      <td>60</td>\n",
       "      <td>3</td>\n",
       "      <td>8450</td>\n",
       "      <td>4</td>\n",
       "      <td>0</td>\n",
       "      <td>5</td>\n",
       "      <td>2003</td>\n",
       "      <td>2003</td>\n",
       "      <td>12</td>\n",
       "      <td>0.0</td>\n",
       "      <td>856.0</td>\n",
       "      <td>208500.0</td>\n",
       "      <td>7594.0</td>\n",
       "    </tr>\n",
       "    <tr>\n",
       "      <th>1</th>\n",
       "      <td>20</td>\n",
       "      <td>3</td>\n",
       "      <td>9600</td>\n",
       "      <td>2</td>\n",
       "      <td>0</td>\n",
       "      <td>8</td>\n",
       "      <td>1976</td>\n",
       "      <td>1976</td>\n",
       "      <td>8</td>\n",
       "      <td>0.0</td>\n",
       "      <td>1262.0</td>\n",
       "      <td>181500.0</td>\n",
       "      <td>8338.0</td>\n",
       "    </tr>\n",
       "    <tr>\n",
       "      <th>2</th>\n",
       "      <td>60</td>\n",
       "      <td>3</td>\n",
       "      <td>11250</td>\n",
       "      <td>4</td>\n",
       "      <td>0</td>\n",
       "      <td>5</td>\n",
       "      <td>2001</td>\n",
       "      <td>2002</td>\n",
       "      <td>12</td>\n",
       "      <td>0.0</td>\n",
       "      <td>920.0</td>\n",
       "      <td>223500.0</td>\n",
       "      <td>10330.0</td>\n",
       "    </tr>\n",
       "    <tr>\n",
       "      <th>3</th>\n",
       "      <td>70</td>\n",
       "      <td>3</td>\n",
       "      <td>9550</td>\n",
       "      <td>0</td>\n",
       "      <td>0</td>\n",
       "      <td>5</td>\n",
       "      <td>1915</td>\n",
       "      <td>1970</td>\n",
       "      <td>13</td>\n",
       "      <td>0.0</td>\n",
       "      <td>756.0</td>\n",
       "      <td>140000.0</td>\n",
       "      <td>8794.0</td>\n",
       "    </tr>\n",
       "    <tr>\n",
       "      <th>4</th>\n",
       "      <td>60</td>\n",
       "      <td>3</td>\n",
       "      <td>14260</td>\n",
       "      <td>2</td>\n",
       "      <td>0</td>\n",
       "      <td>5</td>\n",
       "      <td>2000</td>\n",
       "      <td>2000</td>\n",
       "      <td>12</td>\n",
       "      <td>0.0</td>\n",
       "      <td>1145.0</td>\n",
       "      <td>250000.0</td>\n",
       "      <td>13115.0</td>\n",
       "    </tr>\n",
       "  </tbody>\n",
       "</table>\n",
       "</div>"
      ],
      "text/plain": [
       "   MSSubClass  MSZoning  LotArea  LotConfig  BldgType  OverallCond  YearBuilt  \\\n",
       "0          60         3     8450          4         0            5       2003   \n",
       "1          20         3     9600          2         0            8       1976   \n",
       "2          60         3    11250          4         0            5       2001   \n",
       "3          70         3     9550          0         0            5       1915   \n",
       "4          60         3    14260          2         0            5       2000   \n",
       "\n",
       "   YearRemodAdd  Exterior1st  BsmtFinSF2  TotalBsmtSF  SalePrice  LeftArea  \n",
       "0          2003           12         0.0        856.0   208500.0    7594.0  \n",
       "1          1976            8         0.0       1262.0   181500.0    8338.0  \n",
       "2          2002           12         0.0        920.0   223500.0   10330.0  \n",
       "3          1970           13         0.0        756.0   140000.0    8794.0  \n",
       "4          2000           12         0.0       1145.0   250000.0   13115.0  "
      ]
     },
     "execution_count": 37,
     "metadata": {},
     "output_type": "execute_result"
    }
   ],
   "source": [
    "housing.head()"
   ]
  },
  {
   "cell_type": "code",
   "execution_count": 38,
   "id": "2ffc43be",
   "metadata": {},
   "outputs": [
    {
     "data": {
      "image/png": "[encoded data removed]",
      "text/plain": [
       "<Figure size 1200x800 with 2 Axes>"
      ]
     },
     "metadata": {},
     "output_type": "display_data"
    }
   ],
   "source": [
    "import seaborn as sns\n",
    "import matplotlib.pyplot as plt\n",
    "\n",
    "# Drop non-numeric columns\n",
    "housing_numeric = housing.drop(columns=['MSZoning', 'LotConfig', 'BldgType', 'Exterior1st'])\n",
    "\n",
    "# Calculate correlation matrix\n",
    "corr_matrix = housing_numeric.corr()\n",
    "\n",
    "# Create heatmap\n",
    "plt.figure(figsize=(12,8))\n",
    "sns.heatmap(corr_matrix, annot=True, cmap='coolwarm')\n",
    "plt.show()\n"
   ]
  },
  {
   "cell_type": "code",
   "execution_count": 39,
   "id": "054400b3",
   "metadata": {},
   "outputs": [
    {
     "data": {
      "text/plain": [
       "array([[<AxesSubplot: xlabel='LotArea', ylabel='LotArea'>,\n",
       "        <AxesSubplot: xlabel='OverallCond', ylabel='LotArea'>,\n",
       "        <AxesSubplot: xlabel='TotalBsmtSF', ylabel='LotArea'>,\n",
       "        <AxesSubplot: xlabel='LeftArea', ylabel='LotArea'>,\n",
       "        <AxesSubplot: xlabel='SalePrice', ylabel='LotArea'>],\n",
       "       [<AxesSubplot: xlabel='LotArea', ylabel='OverallCond'>,\n",
       "        <AxesSubplot: xlabel='OverallCond', ylabel='OverallCond'>,\n",
       "        <AxesSubplot: xlabel='TotalBsmtSF', ylabel='OverallCond'>,\n",
       "        <AxesSubplot: xlabel='LeftArea', ylabel='OverallCond'>,\n",
       "        <AxesSubplot: xlabel='SalePrice', ylabel='OverallCond'>],\n",
       "       [<AxesSubplot: xlabel='LotArea', ylabel='TotalBsmtSF'>,\n",
       "        <AxesSubplot: xlabel='OverallCond', ylabel='TotalBsmtSF'>,\n",
       "        <AxesSubplot: xlabel='TotalBsmtSF', ylabel='TotalBsmtSF'>,\n",
       "        <AxesSubplot: xlabel='LeftArea', ylabel='TotalBsmtSF'>,\n",
       "        <AxesSubplot: xlabel='SalePrice', ylabel='TotalBsmtSF'>],\n",
       "       [<AxesSubplot: xlabel='LotArea', ylabel='LeftArea'>,\n",
       "        <AxesSubplot: xlabel='OverallCond', ylabel='LeftArea'>,\n",
       "        <AxesSubplot: xlabel='TotalBsmtSF', ylabel='LeftArea'>,\n",
       "        <AxesSubplot: xlabel='LeftArea', ylabel='LeftArea'>,\n",
       "        <AxesSubplot: xlabel='SalePrice', ylabel='LeftArea'>],\n",
       "       [<AxesSubplot: xlabel='LotArea', ylabel='SalePrice'>,\n",
       "        <AxesSubplot: xlabel='OverallCond', ylabel='SalePrice'>,\n",
       "        <AxesSubplot: xlabel='TotalBsmtSF', ylabel='SalePrice'>,\n",
       "        <AxesSubplot: xlabel='LeftArea', ylabel='SalePrice'>,\n",
       "        <AxesSubplot: xlabel='SalePrice', ylabel='SalePrice'>]],\n",
       "      dtype=object)"
      ]
     },
     "execution_count": 39,
     "metadata": {},
     "output_type": "execute_result"
    },
    {
     "data": {
      "image/png": "[encoded data removed]",
      "text/plain": [
       "<Figure size 1200x800 with 25 Axes>"
      ]
     },
     "metadata": {},
     "output_type": "display_data"
    }
   ],
   "source": [
    "from pandas.plotting import scatter_matrix\n",
    "attributes = [\"LotArea\", \"OverallCond\", \"TotalBsmtSF\", \"LeftArea\", \"SalePrice\"]\n",
    "scatter_matrix(housing[attributes], figsize=(12,8))"
   ]
  },
  {
   "cell_type": "code",
   "execution_count": 40,
   "id": "4698fd3a",
   "metadata": {},
   "outputs": [
    {
     "data": {
      "text/plain": [
       "<AxesSubplot: xlabel='TotalBsmtSF', ylabel='SalePrice'>"
      ]
     },
     "execution_count": 40,
     "metadata": {},
     "output_type": "execute_result"
    },
    {
     "data": {
      "image/png": "[encoded data removed]",
      "text/plain": [
       "<Figure size 640x480 with 1 Axes>"
      ]
     },
     "metadata": {},
     "output_type": "display_data"
    }
   ],
   "source": [
    "housing.plot(kind=\"scatter\", x=\"TotalBsmtSF\", y=\"SalePrice\", alpha=0.1)"
   ]
  },
  {
   "cell_type": "markdown",
   "id": "97ae4426",
   "metadata": {},
   "source": [
    "## Missing attributes"
   ]
  },
  {
   "cell_type": "code",
   "execution_count": 41,
   "id": "9ea81155",
   "metadata": {},
   "outputs": [],
   "source": [
    "# To take care of missing attributes, we can do the following things\n",
    "# 1. Get rid of missing data points\n",
    "# 2. Get rid of whole attribute\n",
    "# 3. Set some random value(0, mean as required)"
   ]
  },
  {
   "cell_type": "code",
   "execution_count": 42,
   "id": "369a39e1",
   "metadata": {},
   "outputs": [
    {
     "data": {
      "text/plain": [
       "(2918, 13)"
      ]
     },
     "execution_count": 42,
     "metadata": {},
     "output_type": "execute_result"
    }
   ],
   "source": [
    "#to drop a missing data \n",
    "\n",
    "a=housing.dropna(subset=[\"BsmtFinSF2\"])\n",
    "a.shape"
   ]
  },
  {
   "cell_type": "code",
   "execution_count": 43,
   "id": "9a22aaeb",
   "metadata": {},
   "outputs": [],
   "source": [
    "#to dropa an entire column\n",
    "# housing.drop(subset[\"BsmtFinSF2\", axis=1])"
   ]
  },
  {
   "cell_type": "code",
   "execution_count": 44,
   "id": "12777691",
   "metadata": {},
   "outputs": [],
   "source": [
    "median=housing[\"TotalBsmtSF\"].median()"
   ]
  },
  {
   "cell_type": "code",
   "execution_count": 45,
   "id": "d53afb95",
   "metadata": {},
   "outputs": [
    {
     "data": {
      "text/plain": [
       "989.5"
      ]
     },
     "execution_count": 45,
     "metadata": {},
     "output_type": "execute_result"
    }
   ],
   "source": [
    "median"
   ]
  },
  {
   "cell_type": "code",
   "execution_count": 46,
   "id": "f7fe7c8d",
   "metadata": {},
   "outputs": [
    {
     "data": {
      "text/plain": [
       "0        856.0\n",
       "1       1262.0\n",
       "2        920.0\n",
       "3        756.0\n",
       "4       1145.0\n",
       "         ...  \n",
       "2913     546.0\n",
       "2914     546.0\n",
       "2915    1224.0\n",
       "2916     912.0\n",
       "2917     996.0\n",
       "Name: TotalBsmtSF, Length: 2918, dtype: float64"
      ]
     },
     "execution_count": 46,
     "metadata": {},
     "output_type": "execute_result"
    }
   ],
   "source": [
    "housing[\"TotalBsmtSF\"].fillna(median)"
   ]
  },
  {
   "cell_type": "code",
   "execution_count": 47,
   "id": "b84dfe85",
   "metadata": {},
   "outputs": [
    {
     "data": {
      "text/plain": [
       "(2918, 13)"
      ]
     },
     "execution_count": 47,
     "metadata": {},
     "output_type": "execute_result"
    }
   ],
   "source": [
    "housing.shape"
   ]
  },
  {
   "cell_type": "code",
   "execution_count": 48,
   "id": "bb269097",
   "metadata": {},
   "outputs": [],
   "source": [
    "mean=housing[\"TotalBsmtSF\"].mean()"
   ]
  },
  {
   "cell_type": "code",
   "execution_count": 49,
   "id": "79625225",
   "metadata": {},
   "outputs": [
    {
     "data": {
      "text/plain": [
       "1051.7775873886224"
      ]
     },
     "execution_count": 49,
     "metadata": {},
     "output_type": "execute_result"
    }
   ],
   "source": [
    "mean"
   ]
  },
  {
   "cell_type": "code",
   "execution_count": 50,
   "id": "7780150f",
   "metadata": {},
   "outputs": [
    {
     "data": {
      "text/plain": [
       "194274.89429352595"
      ]
     },
     "execution_count": 50,
     "metadata": {},
     "output_type": "execute_result"
    }
   ],
   "source": [
    "housing['TotalBsmtSF'].var()"
   ]
  },
  {
   "cell_type": "code",
   "execution_count": 51,
   "id": "bcca2cbd",
   "metadata": {},
   "outputs": [
    {
     "data": {
      "text/html": [
       "<div>\n",
       "<style scoped>\n",
       "    .dataframe tbody tr th:only-of-type {\n",
       "        vertical-align: middle;\n",
       "    }\n",
       "\n",
       "    .dataframe tbody tr th {\n",
       "        vertical-align: top;\n",
       "    }\n",
       "\n",
       "    .dataframe thead th {\n",
       "        text-align: right;\n",
       "    }\n",
       "</style>\n",
       "<table border=\"1\" class=\"dataframe\">\n",
       "  <thead>\n",
       "    <tr style=\"text-align: right;\">\n",
       "      <th></th>\n",
       "      <th>MSSubClass</th>\n",
       "      <th>MSZoning</th>\n",
       "      <th>LotArea</th>\n",
       "      <th>LotConfig</th>\n",
       "      <th>BldgType</th>\n",
       "      <th>OverallCond</th>\n",
       "      <th>YearBuilt</th>\n",
       "      <th>YearRemodAdd</th>\n",
       "      <th>Exterior1st</th>\n",
       "      <th>BsmtFinSF2</th>\n",
       "      <th>TotalBsmtSF</th>\n",
       "      <th>SalePrice</th>\n",
       "      <th>LeftArea</th>\n",
       "    </tr>\n",
       "  </thead>\n",
       "  <tbody>\n",
       "    <tr>\n",
       "      <th>0</th>\n",
       "      <td>60</td>\n",
       "      <td>3</td>\n",
       "      <td>8450</td>\n",
       "      <td>4</td>\n",
       "      <td>0</td>\n",
       "      <td>5</td>\n",
       "      <td>2003</td>\n",
       "      <td>2003</td>\n",
       "      <td>12</td>\n",
       "      <td>0.0</td>\n",
       "      <td>856.0</td>\n",
       "      <td>208500.0</td>\n",
       "      <td>7594.0</td>\n",
       "    </tr>\n",
       "    <tr>\n",
       "      <th>1</th>\n",
       "      <td>20</td>\n",
       "      <td>3</td>\n",
       "      <td>9600</td>\n",
       "      <td>2</td>\n",
       "      <td>0</td>\n",
       "      <td>8</td>\n",
       "      <td>1976</td>\n",
       "      <td>1976</td>\n",
       "      <td>8</td>\n",
       "      <td>0.0</td>\n",
       "      <td>1262.0</td>\n",
       "      <td>181500.0</td>\n",
       "      <td>8338.0</td>\n",
       "    </tr>\n",
       "    <tr>\n",
       "      <th>2</th>\n",
       "      <td>60</td>\n",
       "      <td>3</td>\n",
       "      <td>11250</td>\n",
       "      <td>4</td>\n",
       "      <td>0</td>\n",
       "      <td>5</td>\n",
       "      <td>2001</td>\n",
       "      <td>2002</td>\n",
       "      <td>12</td>\n",
       "      <td>0.0</td>\n",
       "      <td>920.0</td>\n",
       "      <td>223500.0</td>\n",
       "      <td>10330.0</td>\n",
       "    </tr>\n",
       "    <tr>\n",
       "      <th>3</th>\n",
       "      <td>70</td>\n",
       "      <td>3</td>\n",
       "      <td>9550</td>\n",
       "      <td>0</td>\n",
       "      <td>0</td>\n",
       "      <td>5</td>\n",
       "      <td>1915</td>\n",
       "      <td>1970</td>\n",
       "      <td>13</td>\n",
       "      <td>0.0</td>\n",
       "      <td>756.0</td>\n",
       "      <td>140000.0</td>\n",
       "      <td>8794.0</td>\n",
       "    </tr>\n",
       "    <tr>\n",
       "      <th>4</th>\n",
       "      <td>60</td>\n",
       "      <td>3</td>\n",
       "      <td>14260</td>\n",
       "      <td>2</td>\n",
       "      <td>0</td>\n",
       "      <td>5</td>\n",
       "      <td>2000</td>\n",
       "      <td>2000</td>\n",
       "      <td>12</td>\n",
       "      <td>0.0</td>\n",
       "      <td>1145.0</td>\n",
       "      <td>250000.0</td>\n",
       "      <td>13115.0</td>\n",
       "    </tr>\n",
       "  </tbody>\n",
       "</table>\n",
       "</div>"
      ],
      "text/plain": [
       "   MSSubClass  MSZoning  LotArea  LotConfig  BldgType  OverallCond  YearBuilt  \\\n",
       "0          60         3     8450          4         0            5       2003   \n",
       "1          20         3     9600          2         0            8       1976   \n",
       "2          60         3    11250          4         0            5       2001   \n",
       "3          70         3     9550          0         0            5       1915   \n",
       "4          60         3    14260          2         0            5       2000   \n",
       "\n",
       "   YearRemodAdd  Exterior1st  BsmtFinSF2  TotalBsmtSF  SalePrice  LeftArea  \n",
       "0          2003           12         0.0        856.0   208500.0    7594.0  \n",
       "1          1976            8         0.0       1262.0   181500.0    8338.0  \n",
       "2          2002           12         0.0        920.0   223500.0   10330.0  \n",
       "3          1970           13         0.0        756.0   140000.0    8794.0  \n",
       "4          2000           12         0.0       1145.0   250000.0   13115.0  "
      ]
     },
     "execution_count": 51,
     "metadata": {},
     "output_type": "execute_result"
    }
   ],
   "source": [
    "housing.head()"
   ]
  },
  {
   "cell_type": "code",
   "execution_count": 52,
   "id": "3716c2e4",
   "metadata": {},
   "outputs": [
    {
     "data": {
      "text/html": [
       "<div>\n",
       "<style scoped>\n",
       "    .dataframe tbody tr th:only-of-type {\n",
       "        vertical-align: middle;\n",
       "    }\n",
       "\n",
       "    .dataframe tbody tr th {\n",
       "        vertical-align: top;\n",
       "    }\n",
       "\n",
       "    .dataframe thead th {\n",
       "        text-align: right;\n",
       "    }\n",
       "</style>\n",
       "<table border=\"1\" class=\"dataframe\">\n",
       "  <thead>\n",
       "    <tr style=\"text-align: right;\">\n",
       "      <th></th>\n",
       "      <th>MSSubClass</th>\n",
       "      <th>MSZoning</th>\n",
       "      <th>LotArea</th>\n",
       "      <th>LotConfig</th>\n",
       "      <th>BldgType</th>\n",
       "      <th>OverallCond</th>\n",
       "      <th>YearBuilt</th>\n",
       "      <th>YearRemodAdd</th>\n",
       "      <th>Exterior1st</th>\n",
       "      <th>BsmtFinSF2</th>\n",
       "      <th>TotalBsmtSF</th>\n",
       "      <th>SalePrice</th>\n",
       "      <th>LeftArea</th>\n",
       "    </tr>\n",
       "  </thead>\n",
       "  <tbody>\n",
       "    <tr>\n",
       "      <th>count</th>\n",
       "      <td>2918.000000</td>\n",
       "      <td>2918.000000</td>\n",
       "      <td>2918.000000</td>\n",
       "      <td>2918.000000</td>\n",
       "      <td>2918.000000</td>\n",
       "      <td>2918.000000</td>\n",
       "      <td>2918.000000</td>\n",
       "      <td>2918.000000</td>\n",
       "      <td>2918.000000</td>\n",
       "      <td>2918.000000</td>\n",
       "      <td>2918.000000</td>\n",
       "      <td>2918.000000</td>\n",
       "      <td>2918.000000</td>\n",
       "    </tr>\n",
       "    <tr>\n",
       "      <th>mean</th>\n",
       "      <td>57.150446</td>\n",
       "      <td>3.030158</td>\n",
       "      <td>10169.563057</td>\n",
       "      <td>3.055860</td>\n",
       "      <td>0.505826</td>\n",
       "      <td>5.564085</td>\n",
       "      <td>1971.321453</td>\n",
       "      <td>1984.276217</td>\n",
       "      <td>9.625771</td>\n",
       "      <td>49.582248</td>\n",
       "      <td>1051.777587</td>\n",
       "      <td>155201.557094</td>\n",
       "      <td>9117.785469</td>\n",
       "    </tr>\n",
       "    <tr>\n",
       "      <th>std</th>\n",
       "      <td>42.519354</td>\n",
       "      <td>0.662256</td>\n",
       "      <td>7887.959547</td>\n",
       "      <td>1.604747</td>\n",
       "      <td>1.206684</td>\n",
       "      <td>1.113004</td>\n",
       "      <td>30.293007</td>\n",
       "      <td>20.888290</td>\n",
       "      <td>3.200710</td>\n",
       "      <td>169.205611</td>\n",
       "      <td>440.766258</td>\n",
       "      <td>72934.776073</td>\n",
       "      <td>7787.620641</td>\n",
       "    </tr>\n",
       "    <tr>\n",
       "      <th>min</th>\n",
       "      <td>20.000000</td>\n",
       "      <td>0.000000</td>\n",
       "      <td>1300.000000</td>\n",
       "      <td>0.000000</td>\n",
       "      <td>0.000000</td>\n",
       "      <td>1.000000</td>\n",
       "      <td>1872.000000</td>\n",
       "      <td>1950.000000</td>\n",
       "      <td>0.000000</td>\n",
       "      <td>0.000000</td>\n",
       "      <td>0.000000</td>\n",
       "      <td>0.000000</td>\n",
       "      <td>739.000000</td>\n",
       "    </tr>\n",
       "    <tr>\n",
       "      <th>25%</th>\n",
       "      <td>20.000000</td>\n",
       "      <td>3.000000</td>\n",
       "      <td>7482.000000</td>\n",
       "      <td>2.000000</td>\n",
       "      <td>0.000000</td>\n",
       "      <td>5.000000</td>\n",
       "      <td>1954.000000</td>\n",
       "      <td>1965.000000</td>\n",
       "      <td>8.000000</td>\n",
       "      <td>0.000000</td>\n",
       "      <td>793.000000</td>\n",
       "      <td>110000.000000</td>\n",
       "      <td>6516.500000</td>\n",
       "    </tr>\n",
       "    <tr>\n",
       "      <th>50%</th>\n",
       "      <td>50.000000</td>\n",
       "      <td>3.000000</td>\n",
       "      <td>9455.000000</td>\n",
       "      <td>4.000000</td>\n",
       "      <td>0.000000</td>\n",
       "      <td>5.000000</td>\n",
       "      <td>1973.000000</td>\n",
       "      <td>1993.000000</td>\n",
       "      <td>12.000000</td>\n",
       "      <td>0.000000</td>\n",
       "      <td>989.500000</td>\n",
       "      <td>141682.300000</td>\n",
       "      <td>8400.000000</td>\n",
       "    </tr>\n",
       "    <tr>\n",
       "      <th>75%</th>\n",
       "      <td>70.000000</td>\n",
       "      <td>3.000000</td>\n",
       "      <td>11573.500000</td>\n",
       "      <td>4.000000</td>\n",
       "      <td>0.000000</td>\n",
       "      <td>6.000000</td>\n",
       "      <td>2001.000000</td>\n",
       "      <td>2004.000000</td>\n",
       "      <td>12.000000</td>\n",
       "      <td>0.000000</td>\n",
       "      <td>1302.000000</td>\n",
       "      <td>187400.000000</td>\n",
       "      <td>10382.000000</td>\n",
       "    </tr>\n",
       "    <tr>\n",
       "      <th>max</th>\n",
       "      <td>190.000000</td>\n",
       "      <td>5.000000</td>\n",
       "      <td>215245.000000</td>\n",
       "      <td>4.000000</td>\n",
       "      <td>4.000000</td>\n",
       "      <td>9.000000</td>\n",
       "      <td>2010.000000</td>\n",
       "      <td>2010.000000</td>\n",
       "      <td>15.000000</td>\n",
       "      <td>1526.000000</td>\n",
       "      <td>6110.000000</td>\n",
       "      <td>755000.000000</td>\n",
       "      <td>213109.000000</td>\n",
       "    </tr>\n",
       "  </tbody>\n",
       "</table>\n",
       "</div>"
      ],
      "text/plain": [
       "        MSSubClass     MSZoning        LotArea    LotConfig     BldgType  \\\n",
       "count  2918.000000  2918.000000    2918.000000  2918.000000  2918.000000   \n",
       "mean     57.150446     3.030158   10169.563057     3.055860     0.505826   \n",
       "std      42.519354     0.662256    7887.959547     1.604747     1.206684   \n",
       "min      20.000000     0.000000    1300.000000     0.000000     0.000000   \n",
       "25%      20.000000     3.000000    7482.000000     2.000000     0.000000   \n",
       "50%      50.000000     3.000000    9455.000000     4.000000     0.000000   \n",
       "75%      70.000000     3.000000   11573.500000     4.000000     0.000000   \n",
       "max     190.000000     5.000000  215245.000000     4.000000     4.000000   \n",
       "\n",
       "       OverallCond    YearBuilt  YearRemodAdd  Exterior1st   BsmtFinSF2  \\\n",
       "count  2918.000000  2918.000000   2918.000000  2918.000000  2918.000000   \n",
       "mean      5.564085  1971.321453   1984.276217     9.625771    49.582248   \n",
       "std       1.113004    30.293007     20.888290     3.200710   169.205611   \n",
       "min       1.000000  1872.000000   1950.000000     0.000000     0.000000   \n",
       "25%       5.000000  1954.000000   1965.000000     8.000000     0.000000   \n",
       "50%       5.000000  1973.000000   1993.000000    12.000000     0.000000   \n",
       "75%       6.000000  2001.000000   2004.000000    12.000000     0.000000   \n",
       "max       9.000000  2010.000000   2010.000000    15.000000  1526.000000   \n",
       "\n",
       "       TotalBsmtSF      SalePrice       LeftArea  \n",
       "count  2918.000000    2918.000000    2918.000000  \n",
       "mean   1051.777587  155201.557094    9117.785469  \n",
       "std     440.766258   72934.776073    7787.620641  \n",
       "min       0.000000       0.000000     739.000000  \n",
       "25%     793.000000  110000.000000    6516.500000  \n",
       "50%     989.500000  141682.300000    8400.000000  \n",
       "75%    1302.000000  187400.000000   10382.000000  \n",
       "max    6110.000000  755000.000000  213109.000000  "
      ]
     },
     "execution_count": 52,
     "metadata": {},
     "output_type": "execute_result"
    }
   ],
   "source": [
    "housing.describe() #before using imputer"
   ]
  },
  {
   "cell_type": "code",
   "execution_count": 53,
   "id": "9bfdf8c4",
   "metadata": {},
   "outputs": [
    {
     "data": {
      "text/html": [
       "<style>#sk-container-id-1 {color: black;background-color: white;}#sk-container-id-1 pre{padding: 0;}#sk-container-id-1 div.sk-toggleable {background-color: white;}#sk-container-id-1 label.sk-toggleable__label {cursor: pointer;display: block;width: 100%;margin-bottom: 0;padding: 0.3em;box-sizing: border-box;text-align: center;}#sk-container-id-1 label.sk-toggleable__label-arrow:before {content: \"▸\";float: left;margin-right: 0.25em;color: #696969;}#sk-container-id-1 label.sk-toggleable__label-arrow:hover:before {color: black;}#sk-container-id-1 div.sk-estimator:hover label.sk-toggleable__label-arrow:before {color: black;}#sk-container-id-1 div.sk-toggleable__content {max-height: 0;max-width: 0;overflow: hidden;text-align: left;background-color: #f0f8ff;}#sk-container-id-1 div.sk-toggleable__content pre {margin: 0.2em;color: black;border-radius: 0.25em;background-color: #f0f8ff;}#sk-container-id-1 input.sk-toggleable__control:checked~div.sk-toggleable__content {max-height: 200px;max-width: 100%;overflow: auto;}#sk-container-id-1 input.sk-toggleable__control:checked~label.sk-toggleable__label-arrow:before {content: \"▾\";}#sk-container-id-1 div.sk-estimator input.sk-toggleable__control:checked~label.sk-toggleable__label {background-color: #d4ebff;}#sk-container-id-1 div.sk-label input.sk-toggleable__control:checked~label.sk-toggleable__label {background-color: #d4ebff;}#sk-container-id-1 input.sk-hidden--visually {border: 0;clip: rect(1px 1px 1px 1px);clip: rect(1px, 1px, 1px, 1px);height: 1px;margin: -1px;overflow: hidden;padding: 0;position: absolute;width: 1px;}#sk-container-id-1 div.sk-estimator {font-family: monospace;background-color: #f0f8ff;border: 1px dotted black;border-radius: 0.25em;box-sizing: border-box;margin-bottom: 0.5em;}#sk-container-id-1 div.sk-estimator:hover {background-color: #d4ebff;}#sk-container-id-1 div.sk-parallel-item::after {content: \"\";width: 100%;border-bottom: 1px solid gray;flex-grow: 1;}#sk-container-id-1 div.sk-label:hover label.sk-toggleable__label {background-color: #d4ebff;}#sk-container-id-1 div.sk-serial::before {content: \"\";position: absolute;border-left: 1px solid gray;box-sizing: border-box;top: 0;bottom: 0;left: 50%;z-index: 0;}#sk-container-id-1 div.sk-serial {display: flex;flex-direction: column;align-items: center;background-color: white;padding-right: 0.2em;padding-left: 0.2em;position: relative;}#sk-container-id-1 div.sk-item {position: relative;z-index: 1;}#sk-container-id-1 div.sk-parallel {display: flex;align-items: stretch;justify-content: center;background-color: white;position: relative;}#sk-container-id-1 div.sk-item::before, #sk-container-id-1 div.sk-parallel-item::before {content: \"\";position: absolute;border-left: 1px solid gray;box-sizing: border-box;top: 0;bottom: 0;left: 50%;z-index: -1;}#sk-container-id-1 div.sk-parallel-item {display: flex;flex-direction: column;z-index: 1;position: relative;background-color: white;}#sk-container-id-1 div.sk-parallel-item:first-child::after {align-self: flex-end;width: 50%;}#sk-container-id-1 div.sk-parallel-item:last-child::after {align-self: flex-start;width: 50%;}#sk-container-id-1 div.sk-parallel-item:only-child::after {width: 0;}#sk-container-id-1 div.sk-dashed-wrapped {border: 1px dashed gray;margin: 0 0.4em 0.5em 0.4em;box-sizing: border-box;padding-bottom: 0.4em;background-color: white;}#sk-container-id-1 div.sk-label label {font-family: monospace;font-weight: bold;display: inline-block;line-height: 1.2em;}#sk-container-id-1 div.sk-label-container {text-align: center;}#sk-container-id-1 div.sk-container {/* jupyter's `normalize.less` sets `[hidden] { display: none; }` but bootstrap.min.css set `[hidden] { display: none !important; }` so we also need the `!important` here to be able to override the default hidden behavior on the sphinx rendered scikit-learn.org. See: https://github.com/scikit-learn/scikit-learn/issues/21755 */display: inline-block !important;position: relative;}#sk-container-id-1 div.sk-text-repr-fallback {display: none;}</style><div id=\"sk-container-id-1\" class=\"sk-top-container\"><div class=\"sk-text-repr-fallback\"><pre>SimpleImputer(strategy=&#x27;median&#x27;)</pre><b>In a Jupyter environment, please rerun this cell to show the HTML representation or trust the notebook. <br />On GitHub, the HTML representation is unable to render, please try loading this page with nbviewer.org.</b></div><div class=\"sk-container\" hidden><div class=\"sk-item\"><div class=\"sk-estimator sk-toggleable\"><input class=\"sk-toggleable__control sk-hidden--visually\" id=\"sk-estimator-id-1\" type=\"checkbox\" checked><label for=\"sk-estimator-id-1\" class=\"sk-toggleable__label sk-toggleable__label-arrow\">SimpleImputer</label><div class=\"sk-toggleable__content\"><pre>SimpleImputer(strategy=&#x27;median&#x27;)</pre></div></div></div></div></div>"
      ],
      "text/plain": [
       "SimpleImputer(strategy='median')"
      ]
     },
     "execution_count": 53,
     "metadata": {},
     "output_type": "execute_result"
    }
   ],
   "source": [
    "from sklearn.impute import SimpleImputer\n",
    "imputer=SimpleImputer(strategy=\"median\")\n",
    "imputer.fit(housing)"
   ]
  },
  {
   "cell_type": "code",
   "execution_count": 54,
   "id": "338e1bdf",
   "metadata": {},
   "outputs": [
    {
     "data": {
      "text/plain": [
       "(13,)"
      ]
     },
     "execution_count": 54,
     "metadata": {},
     "output_type": "execute_result"
    }
   ],
   "source": [
    "imputer.statistics_.shape"
   ]
  },
  {
   "cell_type": "code",
   "execution_count": 55,
   "id": "81a6d0ce",
   "metadata": {},
   "outputs": [],
   "source": [
    "X=imputer.transform(housing)"
   ]
  },
  {
   "cell_type": "code",
   "execution_count": 56,
   "id": "6846a9e6",
   "metadata": {},
   "outputs": [],
   "source": [
    "housing_tr=pd.DataFrame(X, columns=housing.columns)"
   ]
  },
  {
   "cell_type": "code",
   "execution_count": 57,
   "id": "632a1509",
   "metadata": {},
   "outputs": [
    {
     "data": {
      "text/html": [
       "<div>\n",
       "<style scoped>\n",
       "    .dataframe tbody tr th:only-of-type {\n",
       "        vertical-align: middle;\n",
       "    }\n",
       "\n",
       "    .dataframe tbody tr th {\n",
       "        vertical-align: top;\n",
       "    }\n",
       "\n",
       "    .dataframe thead th {\n",
       "        text-align: right;\n",
       "    }\n",
       "</style>\n",
       "<table border=\"1\" class=\"dataframe\">\n",
       "  <thead>\n",
       "    <tr style=\"text-align: right;\">\n",
       "      <th></th>\n",
       "      <th>MSSubClass</th>\n",
       "      <th>MSZoning</th>\n",
       "      <th>LotArea</th>\n",
       "      <th>LotConfig</th>\n",
       "      <th>BldgType</th>\n",
       "      <th>OverallCond</th>\n",
       "      <th>YearBuilt</th>\n",
       "      <th>YearRemodAdd</th>\n",
       "      <th>Exterior1st</th>\n",
       "      <th>BsmtFinSF2</th>\n",
       "      <th>TotalBsmtSF</th>\n",
       "      <th>SalePrice</th>\n",
       "      <th>LeftArea</th>\n",
       "    </tr>\n",
       "  </thead>\n",
       "  <tbody>\n",
       "    <tr>\n",
       "      <th>count</th>\n",
       "      <td>2918.000000</td>\n",
       "      <td>2918.000000</td>\n",
       "      <td>2918.000000</td>\n",
       "      <td>2918.000000</td>\n",
       "      <td>2918.000000</td>\n",
       "      <td>2918.000000</td>\n",
       "      <td>2918.000000</td>\n",
       "      <td>2918.000000</td>\n",
       "      <td>2918.000000</td>\n",
       "      <td>2918.000000</td>\n",
       "      <td>2918.000000</td>\n",
       "      <td>2918.000000</td>\n",
       "      <td>2918.000000</td>\n",
       "    </tr>\n",
       "    <tr>\n",
       "      <th>mean</th>\n",
       "      <td>57.150446</td>\n",
       "      <td>3.030158</td>\n",
       "      <td>10169.563057</td>\n",
       "      <td>3.055860</td>\n",
       "      <td>0.505826</td>\n",
       "      <td>5.564085</td>\n",
       "      <td>1971.321453</td>\n",
       "      <td>1984.276217</td>\n",
       "      <td>9.625771</td>\n",
       "      <td>49.582248</td>\n",
       "      <td>1051.777587</td>\n",
       "      <td>155201.557094</td>\n",
       "      <td>9117.785469</td>\n",
       "    </tr>\n",
       "    <tr>\n",
       "      <th>std</th>\n",
       "      <td>42.519354</td>\n",
       "      <td>0.662256</td>\n",
       "      <td>7887.959547</td>\n",
       "      <td>1.604747</td>\n",
       "      <td>1.206684</td>\n",
       "      <td>1.113004</td>\n",
       "      <td>30.293007</td>\n",
       "      <td>20.888290</td>\n",
       "      <td>3.200710</td>\n",
       "      <td>169.205611</td>\n",
       "      <td>440.766258</td>\n",
       "      <td>72934.776073</td>\n",
       "      <td>7787.620641</td>\n",
       "    </tr>\n",
       "    <tr>\n",
       "      <th>min</th>\n",
       "      <td>20.000000</td>\n",
       "      <td>0.000000</td>\n",
       "      <td>1300.000000</td>\n",
       "      <td>0.000000</td>\n",
       "      <td>0.000000</td>\n",
       "      <td>1.000000</td>\n",
       "      <td>1872.000000</td>\n",
       "      <td>1950.000000</td>\n",
       "      <td>0.000000</td>\n",
       "      <td>0.000000</td>\n",
       "      <td>0.000000</td>\n",
       "      <td>0.000000</td>\n",
       "      <td>739.000000</td>\n",
       "    </tr>\n",
       "    <tr>\n",
       "      <th>25%</th>\n",
       "      <td>20.000000</td>\n",
       "      <td>3.000000</td>\n",
       "      <td>7482.000000</td>\n",
       "      <td>2.000000</td>\n",
       "      <td>0.000000</td>\n",
       "      <td>5.000000</td>\n",
       "      <td>1954.000000</td>\n",
       "      <td>1965.000000</td>\n",
       "      <td>8.000000</td>\n",
       "      <td>0.000000</td>\n",
       "      <td>793.000000</td>\n",
       "      <td>110000.000000</td>\n",
       "      <td>6516.500000</td>\n",
       "    </tr>\n",
       "    <tr>\n",
       "      <th>50%</th>\n",
       "      <td>50.000000</td>\n",
       "      <td>3.000000</td>\n",
       "      <td>9455.000000</td>\n",
       "      <td>4.000000</td>\n",
       "      <td>0.000000</td>\n",
       "      <td>5.000000</td>\n",
       "      <td>1973.000000</td>\n",
       "      <td>1993.000000</td>\n",
       "      <td>12.000000</td>\n",
       "      <td>0.000000</td>\n",
       "      <td>989.500000</td>\n",
       "      <td>141682.300000</td>\n",
       "      <td>8400.000000</td>\n",
       "    </tr>\n",
       "    <tr>\n",
       "      <th>75%</th>\n",
       "      <td>70.000000</td>\n",
       "      <td>3.000000</td>\n",
       "      <td>11573.500000</td>\n",
       "      <td>4.000000</td>\n",
       "      <td>0.000000</td>\n",
       "      <td>6.000000</td>\n",
       "      <td>2001.000000</td>\n",
       "      <td>2004.000000</td>\n",
       "      <td>12.000000</td>\n",
       "      <td>0.000000</td>\n",
       "      <td>1302.000000</td>\n",
       "      <td>187400.000000</td>\n",
       "      <td>10382.000000</td>\n",
       "    </tr>\n",
       "    <tr>\n",
       "      <th>max</th>\n",
       "      <td>190.000000</td>\n",
       "      <td>5.000000</td>\n",
       "      <td>215245.000000</td>\n",
       "      <td>4.000000</td>\n",
       "      <td>4.000000</td>\n",
       "      <td>9.000000</td>\n",
       "      <td>2010.000000</td>\n",
       "      <td>2010.000000</td>\n",
       "      <td>15.000000</td>\n",
       "      <td>1526.000000</td>\n",
       "      <td>6110.000000</td>\n",
       "      <td>755000.000000</td>\n",
       "      <td>213109.000000</td>\n",
       "    </tr>\n",
       "  </tbody>\n",
       "</table>\n",
       "</div>"
      ],
      "text/plain": [
       "        MSSubClass     MSZoning        LotArea    LotConfig     BldgType  \\\n",
       "count  2918.000000  2918.000000    2918.000000  2918.000000  2918.000000   \n",
       "mean     57.150446     3.030158   10169.563057     3.055860     0.505826   \n",
       "std      42.519354     0.662256    7887.959547     1.604747     1.206684   \n",
       "min      20.000000     0.000000    1300.000000     0.000000     0.000000   \n",
       "25%      20.000000     3.000000    7482.000000     2.000000     0.000000   \n",
       "50%      50.000000     3.000000    9455.000000     4.000000     0.000000   \n",
       "75%      70.000000     3.000000   11573.500000     4.000000     0.000000   \n",
       "max     190.000000     5.000000  215245.000000     4.000000     4.000000   \n",
       "\n",
       "       OverallCond    YearBuilt  YearRemodAdd  Exterior1st   BsmtFinSF2  \\\n",
       "count  2918.000000  2918.000000   2918.000000  2918.000000  2918.000000   \n",
       "mean      5.564085  1971.321453   1984.276217     9.625771    49.582248   \n",
       "std       1.113004    30.293007     20.888290     3.200710   169.205611   \n",
       "min       1.000000  1872.000000   1950.000000     0.000000     0.000000   \n",
       "25%       5.000000  1954.000000   1965.000000     8.000000     0.000000   \n",
       "50%       5.000000  1973.000000   1993.000000    12.000000     0.000000   \n",
       "75%       6.000000  2001.000000   2004.000000    12.000000     0.000000   \n",
       "max       9.000000  2010.000000   2010.000000    15.000000  1526.000000   \n",
       "\n",
       "       TotalBsmtSF      SalePrice       LeftArea  \n",
       "count  2918.000000    2918.000000    2918.000000  \n",
       "mean   1051.777587  155201.557094    9117.785469  \n",
       "std     440.766258   72934.776073    7787.620641  \n",
       "min       0.000000       0.000000     739.000000  \n",
       "25%     793.000000  110000.000000    6516.500000  \n",
       "50%     989.500000  141682.300000    8400.000000  \n",
       "75%    1302.000000  187400.000000   10382.000000  \n",
       "max    6110.000000  755000.000000  213109.000000  "
      ]
     },
     "execution_count": 57,
     "metadata": {},
     "output_type": "execute_result"
    }
   ],
   "source": [
    "housing_tr.describe()"
   ]
  },
  {
   "cell_type": "code",
   "execution_count": 58,
   "id": "21bb6241",
   "metadata": {},
   "outputs": [],
   "source": [
    "housing =strat_train_set.drop(\"SalePrice\", axis=1)\n",
    "housing_labels=strat_train_set[\"SalePrice\"].copy()"
   ]
  },
  {
   "cell_type": "markdown",
   "id": "98994f0b",
   "metadata": {},
   "source": [
    "# Feature Scaling "
   ]
  },
  {
   "cell_type": "markdown",
   "id": "39a1a576",
   "metadata": {},
   "source": [
    "There are of two types\n",
    "1. Min-Max Scaling (Normalization)\n",
    "(value-min)/(max-min)    \n",
    "2. Standardization\n",
    "(value-mean)/std    "
   ]
  },
  {
   "cell_type": "markdown",
   "id": "1d519774",
   "metadata": {},
   "source": [
    "# Creating pipeline"
   ]
  },
  {
   "cell_type": "code",
   "execution_count": 59,
   "id": "05eb074c",
   "metadata": {},
   "outputs": [],
   "source": [
    "from sklearn.pipeline import Pipeline\n"
   ]
  },
  {
   "cell_type": "code",
   "execution_count": 60,
   "id": "3f2f1f05",
   "metadata": {},
   "outputs": [],
   "source": [
    "from sklearn.preprocessing import StandardScaler\n",
    "my_pipeline=Pipeline([\n",
    "    ('imputer', SimpleImputer(strategy=\"median\")),\n",
    "    ('std_scaler', StandardScaler()),\n",
    "])"
   ]
  },
  {
   "cell_type": "code",
   "execution_count": 61,
   "id": "e26d2d60",
   "metadata": {},
   "outputs": [],
   "source": [
    "housing_num_tr=my_pipeline.fit_transform(housing)\n",
    "#we are using the transformed data set for further processing\n"
   ]
  },
  {
   "cell_type": "code",
   "execution_count": 62,
   "id": "298d0d1a",
   "metadata": {},
   "outputs": [
    {
     "data": {
      "text/plain": [
       "(2334, 11)"
      ]
     },
     "execution_count": 62,
     "metadata": {},
     "output_type": "execute_result"
    }
   ],
   "source": [
    "housing_num_tr.shape"
   ]
  },
  {
   "cell_type": "code",
   "execution_count": 63,
   "id": "6dcffe17",
   "metadata": {},
   "outputs": [
    {
     "data": {
      "text/plain": [
       "['pipeline.joblib']"
      ]
     },
     "execution_count": 63,
     "metadata": {},
     "output_type": "execute_result"
    }
   ],
   "source": [
    "from joblib import dump, load\n",
    "dump(my_pipeline, 'pipeline.joblib')"
   ]
  },
  {
   "cell_type": "markdown",
   "id": "4d2520fe",
   "metadata": {},
   "source": [
    "## Selecting  a desired model"
   ]
  },
  {
   "cell_type": "code",
   "execution_count": 64,
   "id": "02dfcd9c",
   "metadata": {},
   "outputs": [
    {
     "data": {
      "text/plain": [
       "294     167000.00\n",
       "2859    145518.24\n",
       "1525    122255.12\n",
       "2440    119656.58\n",
       "906     255000.00\n",
       "Name: SalePrice, dtype: float64"
      ]
     },
     "execution_count": 64,
     "metadata": {},
     "output_type": "execute_result"
    }
   ],
   "source": [
    "housing_labels.head()"
   ]
  },
  {
   "cell_type": "code",
   "execution_count": 65,
   "id": "361773be",
   "metadata": {},
   "outputs": [
    {
     "name": "stdout",
     "output_type": "stream",
     "text": [
      "Number of NaN values: 0\n"
     ]
    }
   ],
   "source": [
    "num_nan = housing_labels.isnull().sum().sum()\n",
    "print(\"Number of NaN values:\", num_nan)"
   ]
  },
  {
   "cell_type": "code",
   "execution_count": 66,
   "id": "31b7abaa",
   "metadata": {},
   "outputs": [],
   "source": [
    "median_value = housing_labels.median()\n",
    "housing_labels.fillna(median_value, inplace=True)"
   ]
  },
  {
   "cell_type": "code",
   "execution_count": 67,
   "id": "4f9e0233",
   "metadata": {
    "scrolled": true
   },
   "outputs": [
    {
     "data": {
      "text/plain": [
       "294     167000.00\n",
       "2859    145518.24\n",
       "1525    122255.12\n",
       "2440    119656.58\n",
       "906     255000.00\n",
       "Name: SalePrice, dtype: float64"
      ]
     },
     "execution_count": 67,
     "metadata": {},
     "output_type": "execute_result"
    }
   ],
   "source": [
    "housing_labels.head()"
   ]
  },
  {
   "cell_type": "code",
   "execution_count": 116,
   "id": "ffdb5fc7",
   "metadata": {},
   "outputs": [
    {
     "data": {
      "text/html": [
       "<style>#sk-container-id-4 {color: black;background-color: white;}#sk-container-id-4 pre{padding: 0;}#sk-container-id-4 div.sk-toggleable {background-color: white;}#sk-container-id-4 label.sk-toggleable__label {cursor: pointer;display: block;width: 100%;margin-bottom: 0;padding: 0.3em;box-sizing: border-box;text-align: center;}#sk-container-id-4 label.sk-toggleable__label-arrow:before {content: \"▸\";float: left;margin-right: 0.25em;color: #696969;}#sk-container-id-4 label.sk-toggleable__label-arrow:hover:before {color: black;}#sk-container-id-4 div.sk-estimator:hover label.sk-toggleable__label-arrow:before {color: black;}#sk-container-id-4 div.sk-toggleable__content {max-height: 0;max-width: 0;overflow: hidden;text-align: left;background-color: #f0f8ff;}#sk-container-id-4 div.sk-toggleable__content pre {margin: 0.2em;color: black;border-radius: 0.25em;background-color: #f0f8ff;}#sk-container-id-4 input.sk-toggleable__control:checked~div.sk-toggleable__content {max-height: 200px;max-width: 100%;overflow: auto;}#sk-container-id-4 input.sk-toggleable__control:checked~label.sk-toggleable__label-arrow:before {content: \"▾\";}#sk-container-id-4 div.sk-estimator input.sk-toggleable__control:checked~label.sk-toggleable__label {background-color: #d4ebff;}#sk-container-id-4 div.sk-label input.sk-toggleable__control:checked~label.sk-toggleable__label {background-color: #d4ebff;}#sk-container-id-4 input.sk-hidden--visually {border: 0;clip: rect(1px 1px 1px 1px);clip: rect(1px, 1px, 1px, 1px);height: 1px;margin: -1px;overflow: hidden;padding: 0;position: absolute;width: 1px;}#sk-container-id-4 div.sk-estimator {font-family: monospace;background-color: #f0f8ff;border: 1px dotted black;border-radius: 0.25em;box-sizing: border-box;margin-bottom: 0.5em;}#sk-container-id-4 div.sk-estimator:hover {background-color: #d4ebff;}#sk-container-id-4 div.sk-parallel-item::after {content: \"\";width: 100%;border-bottom: 1px solid gray;flex-grow: 1;}#sk-container-id-4 div.sk-label:hover label.sk-toggleable__label {background-color: #d4ebff;}#sk-container-id-4 div.sk-serial::before {content: \"\";position: absolute;border-left: 1px solid gray;box-sizing: border-box;top: 0;bottom: 0;left: 50%;z-index: 0;}#sk-container-id-4 div.sk-serial {display: flex;flex-direction: column;align-items: center;background-color: white;padding-right: 0.2em;padding-left: 0.2em;position: relative;}#sk-container-id-4 div.sk-item {position: relative;z-index: 1;}#sk-container-id-4 div.sk-parallel {display: flex;align-items: stretch;justify-content: center;background-color: white;position: relative;}#sk-container-id-4 div.sk-item::before, #sk-container-id-4 div.sk-parallel-item::before {content: \"\";position: absolute;border-left: 1px solid gray;box-sizing: border-box;top: 0;bottom: 0;left: 50%;z-index: -1;}#sk-container-id-4 div.sk-parallel-item {display: flex;flex-direction: column;z-index: 1;position: relative;background-color: white;}#sk-container-id-4 div.sk-parallel-item:first-child::after {align-self: flex-end;width: 50%;}#sk-container-id-4 div.sk-parallel-item:last-child::after {align-self: flex-start;width: 50%;}#sk-container-id-4 div.sk-parallel-item:only-child::after {width: 0;}#sk-container-id-4 div.sk-dashed-wrapped {border: 1px dashed gray;margin: 0 0.4em 0.5em 0.4em;box-sizing: border-box;padding-bottom: 0.4em;background-color: white;}#sk-container-id-4 div.sk-label label {font-family: monospace;font-weight: bold;display: inline-block;line-height: 1.2em;}#sk-container-id-4 div.sk-label-container {text-align: center;}#sk-container-id-4 div.sk-container {/* jupyter's `normalize.less` sets `[hidden] { display: none; }` but bootstrap.min.css set `[hidden] { display: none !important; }` so we also need the `!important` here to be able to override the default hidden behavior on the sphinx rendered scikit-learn.org. See: https://github.com/scikit-learn/scikit-learn/issues/21755 */display: inline-block !important;position: relative;}#sk-container-id-4 div.sk-text-repr-fallback {display: none;}</style><div id=\"sk-container-id-4\" class=\"sk-top-container\"><div class=\"sk-text-repr-fallback\"><pre>RandomForestRegressor()</pre><b>In a Jupyter environment, please rerun this cell to show the HTML representation or trust the notebook. <br />On GitHub, the HTML representation is unable to render, please try loading this page with nbviewer.org.</b></div><div class=\"sk-container\" hidden><div class=\"sk-item\"><div class=\"sk-estimator sk-toggleable\"><input class=\"sk-toggleable__control sk-hidden--visually\" id=\"sk-estimator-id-4\" type=\"checkbox\" checked><label for=\"sk-estimator-id-4\" class=\"sk-toggleable__label sk-toggleable__label-arrow\">RandomForestRegressor</label><div class=\"sk-toggleable__content\"><pre>RandomForestRegressor()</pre></div></div></div></div></div>"
      ],
      "text/plain": [
       "RandomForestRegressor()"
      ]
     },
     "execution_count": 116,
     "metadata": {},
     "output_type": "execute_result"
    }
   ],
   "source": [
    "from sklearn.linear_model import LinearRegression\n",
    "from sklearn.tree import DecisionTreeRegressor\n",
    "from sklearn.ensemble import RandomForestRegressor\n",
    "# model=DecisionTreeRegressor()\n",
    "# model=LinearRegression()\n",
    "model=RandomForestRegressor()\n",
    "model.fit(housing_num_tr, housing_labels)"
   ]
  },
  {
   "cell_type": "code",
   "execution_count": 117,
   "id": "b9ac917a",
   "metadata": {},
   "outputs": [],
   "source": [
    "some_data=housing.iloc[:5]"
   ]
  },
  {
   "cell_type": "code",
   "execution_count": 118,
   "id": "51d4496f",
   "metadata": {},
   "outputs": [],
   "source": [
    "some_labels=housing_labels.iloc[:5]"
   ]
  },
  {
   "cell_type": "code",
   "execution_count": 119,
   "id": "79a3fbbe",
   "metadata": {},
   "outputs": [],
   "source": [
    "prepare_data=my_pipeline.transform(some_data)"
   ]
  },
  {
   "cell_type": "code",
   "execution_count": 120,
   "id": "8fbe62f4",
   "metadata": {},
   "outputs": [
    {
     "data": {
      "text/plain": [
       "array([162413.0188, 145087.1626, 127074.9852, 117362.815 , 253716.9024])"
      ]
     },
     "execution_count": 120,
     "metadata": {},
     "output_type": "execute_result"
    }
   ],
   "source": [
    "model.predict(prepare_data)"
   ]
  },
  {
   "cell_type": "code",
   "execution_count": 121,
   "id": "637fab67",
   "metadata": {},
   "outputs": [
    {
     "data": {
      "text/plain": [
       "[167000.0, 145518.24, 122255.12, 119656.58, 255000.0]"
      ]
     },
     "execution_count": 121,
     "metadata": {},
     "output_type": "execute_result"
    }
   ],
   "source": [
    "list(some_labels)"
   ]
  },
  {
   "cell_type": "markdown",
   "id": "c6b7db4d",
   "metadata": {},
   "source": [
    "# Evaluating The model"
   ]
  },
  {
   "cell_type": "code",
   "execution_count": 122,
   "id": "b64f8e20",
   "metadata": {},
   "outputs": [],
   "source": [
    "from sklearn.metrics import mean_squared_error"
   ]
  },
  {
   "cell_type": "code",
   "execution_count": 123,
   "id": "8f4d43e0",
   "metadata": {},
   "outputs": [],
   "source": [
    "housing_predictions=model.predict(housing_num_tr)\n",
    "mse=mean_squared_error(housing_labels, housing_predictions)\n",
    "rmse=np.sqrt(mse)"
   ]
  },
  {
   "cell_type": "code",
   "execution_count": 124,
   "id": "500d0705",
   "metadata": {},
   "outputs": [
    {
     "data": {
      "text/plain": [
       "299919100.1676649"
      ]
     },
     "execution_count": 124,
     "metadata": {},
     "output_type": "execute_result"
    }
   ],
   "source": [
    "mse"
   ]
  },
  {
   "cell_type": "code",
   "execution_count": 125,
   "id": "414db5bb",
   "metadata": {},
   "outputs": [
    {
     "data": {
      "text/plain": [
       "17318.17254122573"
      ]
     },
     "execution_count": 125,
     "metadata": {},
     "output_type": "execute_result"
    }
   ],
   "source": [
    "rmse"
   ]
  },
  {
   "cell_type": "markdown",
   "id": "1db27fac",
   "metadata": {},
   "source": [
    "# Using better evaluation Tech"
   ]
  },
  {
   "cell_type": "code",
   "execution_count": 126,
   "id": "0a46ed5e",
   "metadata": {},
   "outputs": [],
   "source": [
    "from sklearn.model_selection import cross_val_score"
   ]
  },
  {
   "cell_type": "code",
   "execution_count": 127,
   "id": "5625ab73",
   "metadata": {},
   "outputs": [],
   "source": [
    "scores=cross_val_score(model, housing_num_tr, housing_labels, scoring=\"neg_mean_squared_error\", cv=10)\n",
    "rmse_scores=np.sqrt(-scores)"
   ]
  },
  {
   "cell_type": "code",
   "execution_count": 128,
   "id": "b32a03ee",
   "metadata": {},
   "outputs": [
    {
     "data": {
      "text/plain": [
       "array([49123.69685405, 44266.96354865, 49843.44100732, 48453.14076768,\n",
       "       45972.79576128, 39876.6919278 , 43726.14711968, 48802.0444447 ,\n",
       "       47653.16830171, 41297.55702952])"
      ]
     },
     "execution_count": 128,
     "metadata": {},
     "output_type": "execute_result"
    }
   ],
   "source": [
    "rmse_scores"
   ]
  },
  {
   "cell_type": "code",
   "execution_count": 129,
   "id": "3d80a048",
   "metadata": {},
   "outputs": [],
   "source": [
    "def print_scores(scores):\n",
    "    print(\"Scores:\", scores)\n",
    "    print(\"Mean:\", scores.mean())\n",
    "    print(\"Standard deviation:\", scores.std())"
   ]
  },
  {
   "cell_type": "code",
   "execution_count": 130,
   "id": "11f36793",
   "metadata": {},
   "outputs": [
    {
     "name": "stdout",
     "output_type": "stream",
     "text": [
      "Scores: [49123.69685405 44266.96354865 49843.44100732 48453.14076768\n",
      " 45972.79576128 39876.6919278  43726.14711968 48802.0444447\n",
      " 47653.16830171 41297.55702952]\n",
      "Mean: 45901.56467624025\n",
      "Standard deviation: 3298.747910712971\n"
     ]
    }
   ],
   "source": [
    "print_scores(rmse_scores)"
   ]
  },
  {
   "cell_type": "code",
   "execution_count": 131,
   "id": "3c922a08",
   "metadata": {},
   "outputs": [
    {
     "name": "stdout",
     "output_type": "stream",
     "text": [
      "RMSE of the entire training set: 17533.96966342406\n",
      "Accuracy percentage of the prediction: 88.68436270440284\n"
     ]
    }
   ],
   "source": [
    "# Prepare the data\n",
    "housing = strat_train_set.drop(\"SalePrice\", axis=1)\n",
    "housing_labels = strat_train_set[\"SalePrice\"].copy()\n",
    "housing_prepared = my_pipeline.transform(housing)\n",
    "\n",
    "# Train the model\n",
    "model.fit(housing_prepared, housing_labels)\n",
    "\n",
    "# Make predictions on the training set\n",
    "housing_predictions = model.predict(housing_prepared)\n",
    "\n",
    "# Calculate the RMSE of the entire training set\n",
    "mse = mean_squared_error(housing_labels, housing_predictions)\n",
    "rmse = np.sqrt(mse)\n",
    "print(\"RMSE of the entire training set:\", rmse)\n",
    "\n",
    "# Calculate the accuracy percentage of the prediction\n",
    "accuracy_percent = (1 - (rmse / housing_labels.mean())) * 100\n",
    "print(\"Accuracy percentage of the prediction:\", accuracy_percent)\n"
   ]
  },
  {
   "cell_type": "code",
   "execution_count": 132,
   "id": "741207a1",
   "metadata": {},
   "outputs": [],
   "source": [
    "input_data = {\n",
    "    'MSSubClass': [60],\n",
    "    'MSZoning': [1],\n",
    "    'LotArea': [10000],\n",
    "    'LotConfig': [1],\n",
    "    'BldgType': [1],\n",
    "    'OverallCond': [5],\n",
    "    'YearBuilt': [2003],\n",
    "    'YearRemodAdd': [2003],\n",
    "    'Exterior1st': [1],\n",
    "    'BsmtFinSF2': [0],\n",
    "    'TotalBsmtSF': [2000]\n",
    "}\n"
   ]
  },
  {
   "cell_type": "code",
   "execution_count": 133,
   "id": "ef812f0a",
   "metadata": {},
   "outputs": [
    {
     "name": "stdout",
     "output_type": "stream",
     "text": [
      "[297041.0316]\n"
     ]
    }
   ],
   "source": [
    "prepared_input_data = my_pipeline.transform(pd.DataFrame(input_data))\n",
    "predicted_price = model.predict(prepared_input_data)\n",
    "print(predicted_price)"
   ]
  },
  {
   "cell_type": "markdown",
   "id": "65275648",
   "metadata": {},
   "source": [
    "# Saving the Model"
   ]
  },
  {
   "cell_type": "code",
   "execution_count": 134,
   "id": "e7268631",
   "metadata": {},
   "outputs": [
    {
     "data": {
      "text/plain": [
       "['HousePricePrediction.joblib']"
      ]
     },
     "execution_count": 134,
     "metadata": {},
     "output_type": "execute_result"
    }
   ],
   "source": [
    "from joblib import dump, load\n",
    "dump(model, 'HousePricePrediction.joblib')"
   ]
  },
  {
   "cell_type": "markdown",
   "id": "63265c49",
   "metadata": {},
   "source": [
    "# Testing the model on test data"
   ]
  },
  {
   "cell_type": "code",
   "execution_count": 135,
   "id": "ce6847a5",
   "metadata": {},
   "outputs": [],
   "source": [
    "median_value = strat_test_set.median()\n",
    "strat_test_set.fillna(median_value, inplace=True)"
   ]
  },
  {
   "cell_type": "code",
   "execution_count": 136,
   "id": "fc8c4fbd",
   "metadata": {},
   "outputs": [],
   "source": [
    "X_test= strat_test_set.drop(\"SalePrice\", axis=1)\n",
    "Y_test=strat_test_set[\"SalePrice\"].copy()\n",
    "X_test_prepared=my_pipeline.transform(X_test)\n",
    "\n",
    "final_predictions=model.predict(X_test_prepared)\n",
    "final_mse=mean_squared_error(Y_test, final_predictions)\n",
    "final_rmse=np.sqrt(final_mse)\n",
    "# print(final_predictions, list(Y_test))"
   ]
  },
  {
   "cell_type": "code",
   "execution_count": 137,
   "id": "04aa0441",
   "metadata": {},
   "outputs": [
    {
     "data": {
      "text/plain": [
       "47932.620438588754"
      ]
     },
     "execution_count": 137,
     "metadata": {},
     "output_type": "execute_result"
    }
   ],
   "source": [
    "final_rmse"
   ]
  },
  {
   "cell_type": "code",
   "execution_count": 138,
   "id": "e8626c64",
   "metadata": {},
   "outputs": [
    {
     "name": "stdout",
     "output_type": "stream",
     "text": [
      "inf\n",
      "69.0664374398901\n"
     ]
    }
   ],
   "source": [
    "# Calculate absolute error\n",
    "abs_error = np.abs(Y_test - final_predictions)\n",
    "\n",
    "# Calculate percentage error\n",
    "percentage_error = abs_error / Y_test\n",
    "\n",
    "# Calculate mean absolute percentage error (MAPE)\n",
    "mape = np.mean(percentage_error) * 100\n",
    "print(mape)\n",
    "\n",
    "accuracy_percent_test=(1-(final_rmse/housing_labels.mean()))*100\n",
    "print(accuracy_percent_test)"
   ]
  },
  {
   "cell_type": "code",
   "execution_count": 139,
   "id": "d739630a",
   "metadata": {},
   "outputs": [
    {
     "data": {
      "text/plain": [
       "array([-0.88714873, -0.0721484 , -0.07372322,  0.60059139, -0.42159524,\n",
       "       -0.50877786, -0.59940498, -1.49472522, -1.15810891, -0.29079053,\n",
       "        0.85491692])"
      ]
     },
     "execution_count": 139,
     "metadata": {},
     "output_type": "execute_result"
    }
   ],
   "source": [
    "prepare_data[0]"
   ]
  },
  {
   "cell_type": "code",
   "execution_count": null,
   "id": "032cb1d1",
   "metadata": {},
   "outputs": [],
   "source": []
  }
 ],
 "metadata": {
  "kernelspec": {
   "display_name": "Python 3 (ipykernel)",
   "language": "python",
   "name": "python3"
  },
  "language_info": {
   "codemirror_mode": {
    "name": "ipython",
    "version": 3
   },
   "file_extension": ".py",
   "mimetype": "text/x-python",
   "name": "python",
   "nbconvert_exporter": "python",
   "pygments_lexer": "ipython3",
   "version": "3.11.1"
  },
  "vscode": {
   "interpreter": {
    "hash": "c261aea317cc0286b3b3261fbba9abdec21eaa57589985bb7a274bf54d6cc0a7"
   }
  }
 },
 "nbformat": 4,
 "nbformat_minor": 5
}
