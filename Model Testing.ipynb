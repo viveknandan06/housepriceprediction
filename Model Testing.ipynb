{
 "cells": [
  {
   "cell_type": "code",
   "execution_count": 10,
   "id": "5b28e2c0",
   "metadata": {},
   "outputs": [],
   "source": [
    "from joblib import dump, load\n",
    "import numpy as np\n",
    "model = load('HousePricePrediction.joblib')"
   ]
  },
  {
   "cell_type": "code",
   "execution_count": 11,
   "id": "43f83902",
   "metadata": {},
   "outputs": [
    {
     "data": {
      "text/plain": [
       "array([162727.4572])"
      ]
     },
     "execution_count": 11,
     "metadata": {},
     "output_type": "execute_result"
    }
   ],
   "source": [
    "features=[[-0.88687591, -0.06919044, -0.07382065,  0.60190594,\n",
    "       -0.42020574, -0.50925825, -0.59999627, -1.48951473, -1.15811969,\n",
    "       -0.29165658,  0.85461131]]\n",
    "model.predict(features)"
   ]
  },
  {
   "cell_type": "code",
   "execution_count": 12,
   "id": "9798087f",
   "metadata": {},
   "outputs": [],
   "source": [
    "\n",
    "MSSubClass = 60\n",
    "MSZoning = 3\n",
    "LotArea = 8100\n",
    "LotConfig = 4\n",
    "BldgType=0\n",
    "OverallCond = 5\n",
    "YearBuilt = 2003\n",
    "YearRemodAdd = 2007\n",
    "Exterior1st = 11\n",
    "BsmtFinSF2=0\n",
    "TotalBsmtSF = 900"
   ]
  },
  {
   "cell_type": "code",
   "execution_count": 13,
   "id": "b6767b71",
   "metadata": {},
   "outputs": [
    {
     "data": {
      "text/plain": [
       "array([579261.9])"
      ]
     },
     "execution_count": 13,
     "metadata": {},
     "output_type": "execute_result"
    }
   ],
   "source": [
    "features=[[MSSubClass, MSZoning, LotArea, LotConfig, BldgType, OverallCond, YearBuilt, YearRemodAdd, Exterior1st, BsmtFinSF2, TotalBsmtSF]]\n",
    "model.predict(features)"
   ]
  },
  {
   "cell_type": "code",
   "execution_count": 14,
   "id": "b5ce4498",
   "metadata": {},
   "outputs": [
    {
     "data": {
      "text/plain": [
       "array([238004.3014])"
      ]
     },
     "execution_count": 14,
     "metadata": {},
     "output_type": "execute_result"
    }
   ],
   "source": [
    "features=[[ 60, 6, 3,  20050,4, 0, 5, 2005, 2003,\n",
    "       12,  0]]\n",
    "model.predict(features)"
   ]
  },
  {
   "cell_type": "code",
   "execution_count": null,
   "id": "3933db04",
   "metadata": {},
   "outputs": [],
   "source": []
  },
  {
   "cell_type": "code",
   "execution_count": null,
   "id": "a9c9a0c9",
   "metadata": {},
   "outputs": [],
   "source": []
  }
 ],
 "metadata": {
  "kernelspec": {
   "display_name": "Python 3 (ipykernel)",
   "language": "python",
   "name": "python3"
  },
  "language_info": {
   "codemirror_mode": {
    "name": "ipython",
    "version": 3
   },
   "file_extension": ".py",
   "mimetype": "text/x-python",
   "name": "python",
   "nbconvert_exporter": "python",
   "pygments_lexer": "ipython3",
   "version": "3.11.1"
  }
 },
 "nbformat": 4,
 "nbformat_minor": 5
}
