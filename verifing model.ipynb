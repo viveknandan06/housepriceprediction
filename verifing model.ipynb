{
 "cells": [
  {
   "cell_type": "code",
   "execution_count": 27,
   "id": "4711ea6d",
   "metadata": {},
   "outputs": [],
   "source": [
    "from joblib import dump, load\n",
    "import numpy as np\n",
    "import pandas as pd\n",
    "model = load('HousePricePrediction.joblib')\n",
    "pipeline=load('pipeline.joblib')"
   ]
  },
  {
   "cell_type": "code",
   "execution_count": 19,
   "id": "c7452589",
   "metadata": {},
   "outputs": [
    {
     "data": {
      "text/plain": [
       "array([170696.8936])"
      ]
     },
     "execution_count": 19,
     "metadata": {},
     "output_type": "execute_result"
    }
   ],
   "source": [
    "features=[[-0.88687591, -0.06919044, -0.07382065,  0.10190594,\n",
    "       -0.42020574, -0.50925825, -0.99999627, -1.48951473, -2.15811969,\n",
    "       -0.29165658,  0.95461131]]\n",
    "model.predict(features)"
   ]
  },
  {
   "cell_type": "code",
   "execution_count": 31,
   "id": "47bbfa42",
   "metadata": {},
   "outputs": [],
   "source": [
    "input_data = {\n",
    "    'MSSubClass': [60],\n",
    "    'MSZoning': [1],\n",
    "    'LotArea': [1100],\n",
    "    'LotConfig': [1],\n",
    "    'BldgType': [1],\n",
    "    'OverallCond': [5],\n",
    "    'YearBuilt': [2003],\n",
    "    'YearRemodAdd': [2003],\n",
    "    'Exterior1st': [1],\n",
    "    'BsmtFinSF2': [0],\n",
    "    'TotalBsmtSF': [200]\n",
    "}\n"
   ]
  },
  {
   "cell_type": "code",
   "execution_count": 32,
   "id": "41ef50b0",
   "metadata": {},
   "outputs": [
    {
     "name": "stdout",
     "output_type": "stream",
     "text": [
      "[121397.4998]\n"
     ]
    }
   ],
   "source": [
    "prepared_input_data = pipeline.transform(pd.DataFrame(input_data))\n",
    "predicted_price = model.predict(prepared_input_data)\n",
    "print(predicted_price)\n"
   ]
  },
  {
   "cell_type": "code",
   "execution_count": 30,
   "id": "6985fc45",
   "metadata": {},
   "outputs": [
    {
     "data": {
      "text/plain": [
       "array([238004.3014])"
      ]
     },
     "execution_count": 30,
     "metadata": {},
     "output_type": "execute_result"
    }
   ],
   "source": [
    "features=[[ 60, 6, 3,  20000,4, 0, 5, 2003, 2003,\n",
    "       12,  0]]\n",
    "model.predict(features)"
   ]
  },
  {
   "cell_type": "code",
   "execution_count": null,
   "id": "3290b690",
   "metadata": {},
   "outputs": [],
   "source": []
  },
  {
   "cell_type": "code",
   "execution_count": null,
   "id": "97435eb3",
   "metadata": {},
   "outputs": [],
   "source": []
  }
 ],
 "metadata": {
  "kernelspec": {
   "display_name": "Python 3 (ipykernel)",
   "language": "python",
   "name": "python3"
  },
  "language_info": {
   "codemirror_mode": {
    "name": "ipython",
    "version": 3
   },
   "file_extension": ".py",
   "mimetype": "text/x-python",
   "name": "python",
   "nbconvert_exporter": "python",
   "pygments_lexer": "ipython3",
   "version": "3.11.1"
  }
 },
 "nbformat": 4,
 "nbformat_minor": 5
}
