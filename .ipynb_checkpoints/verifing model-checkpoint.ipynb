{
 "cells": [
  {
   "cell_type": "code",
   "execution_count": 1,
   "id": "17a4df4c",
   "metadata": {},
   "outputs": [],
   "source": [
    "import pandas as pd\n",
    "import numpy as np\n",
    "from joblib import load\n",
    "from sklearn.preprocessing import LabelEncoder"
   ]
  },
  {
   "cell_type": "code",
   "execution_count": 2,
   "id": "ffce5dcc",
   "metadata": {},
   "outputs": [],
   "source": [
    "model = load('HousePricePrediction.joblib')"
   ]
  },
  {
   "cell_type": "code",
   "execution_count": 3,
   "id": "b996a9c4",
   "metadata": {},
   "outputs": [],
   "source": [
    "Id=0\n",
    "MSSubClass = 20\n",
    "MSZoning = 0\n",
    "LotArea = 1800\n",
    "LotConfig = 0\n",
    "BldgType=0\n",
    "OverallCond = 5\n",
    "YearBuilt = 2000\n",
    "YearRemodAdd = 2012\n",
    "Exterior1st = 8\n",
    "BsmtFinSF2=0\n",
    "TotalBsmtSF = 800"
   ]
  },
  {
   "cell_type": "code",
   "execution_count": 4,
   "id": "6d6c431e",
   "metadata": {},
   "outputs": [],
   "source": [
    "data = {'Id': 0,'MSSubClass': MSSubClass, 'MSZoning': MSZoning, 'LotArea': LotArea, 'LotConfig': LotConfig, 'BldgType': 0,\n",
    "                'OverallCond': OverallCond, 'YearBuilt': YearBuilt, 'YearRemodAdd': YearRemodAdd,\n",
    "                'Exterior1st': Exterior1st, 'BsmtFinSF2': 0, 'TotalBsmtSF': TotalBsmtSF}"
   ]
  },
  {
   "cell_type": "code",
   "execution_count": 5,
   "id": "2e6d70d3",
   "metadata": {},
   "outputs": [],
   "source": [
    "features = pd.DataFrame(data, index=[0])"
   ]
  },
  {
   "cell_type": "code",
   "execution_count": 6,
   "id": "d660d9dc",
   "metadata": {},
   "outputs": [
    {
     "name": "stderr",
     "output_type": "stream",
     "text": [
      "C:\\Python311\\Lib\\site-packages\\sklearn\\base.py:432: UserWarning: X has feature names, but RandomForestRegressor was fitted without feature names\n",
      "  warnings.warn(\n"
     ]
    }
   ],
   "source": [
    "prediction = model.predict(features)"
   ]
  },
  {
   "cell_type": "code",
   "execution_count": 10,
   "id": "6ee6c596",
   "metadata": {},
   "outputs": [
    {
     "ename": "IndexError",
     "evalue": "index 1 is out of bounds for axis 0 with size 1",
     "output_type": "error",
     "traceback": [
      "\u001b[1;31m---------------------------------------------------------------------------\u001b[0m",
      "\u001b[1;31mIndexError\u001b[0m                                Traceback (most recent call last)",
      "Cell \u001b[1;32mIn[10], line 1\u001b[0m\n\u001b[1;32m----> 1\u001b[0m np\u001b[38;5;241m.\u001b[39mround(\u001b[43mprediction\u001b[49m\u001b[43m[\u001b[49m\u001b[38;5;241;43m1\u001b[39;49m\u001b[43m]\u001b[49m, \u001b[38;5;241m3\u001b[39m)\n",
      "\u001b[1;31mIndexError\u001b[0m: index 1 is out of bounds for axis 0 with size 1"
     ]
    }
   ],
   "source": [
    "np.round(prediction[0], 3)"
   ]
  },
  {
   "cell_type": "code",
   "execution_count": null,
   "id": "9642ac5d",
   "metadata": {},
   "outputs": [],
   "source": []
  }
 ],
 "metadata": {
  "kernelspec": {
   "display_name": "Python 3 (ipykernel)",
   "language": "python",
   "name": "python3"
  },
  "language_info": {
   "codemirror_mode": {
    "name": "ipython",
    "version": 3
   },
   "file_extension": ".py",
   "mimetype": "text/x-python",
   "name": "python",
   "nbconvert_exporter": "python",
   "pygments_lexer": "ipython3",
   "version": "3.11.1"
  }
 },
 "nbformat": 4,
 "nbformat_minor": 5
}
